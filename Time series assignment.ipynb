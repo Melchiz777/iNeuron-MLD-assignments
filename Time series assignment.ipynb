{
 "cells": [
  {
   "cell_type": "code",
   "execution_count": 1,
   "metadata": {},
   "outputs": [],
   "source": [
    "import pandas as pd\n",
    "from matplotlib import pyplot\n",
    "from statsmodels.tsa.arima_model import ARIMA\n",
    "from sklearn.metrics import mean_squared_error\n",
    "import datetime"
   ]
  },
  {
   "cell_type": "code",
   "execution_count": 15,
   "metadata": {},
   "outputs": [],
   "source": [
    "sales= pd.read_csv(\"C:\\\\Users\\\\melchiz shroff\\\\Downloads\\\\shampoo_sales.csv\", header=0, parse_dates=[0],\n",
    "index_col=0, squeeze=True)"
   ]
  },
  {
   "cell_type": "code",
   "execution_count": 16,
   "metadata": {
    "scrolled": true
   },
   "outputs": [
    {
     "data": {
      "text/plain": [
       "Month\n",
       "2001-01-01    266.0\n",
       "2001-01-02    145.9\n",
       "2001-01-03    183.1\n",
       "2001-01-04    119.3\n",
       "2001-01-05    180.3\n",
       "Name: Sales, dtype: float64"
      ]
     },
     "execution_count": 16,
     "metadata": {},
     "output_type": "execute_result"
    }
   ],
   "source": [
    "sales.head()"
   ]
  },
  {
   "cell_type": "code",
   "execution_count": 18,
   "metadata": {},
   "outputs": [
    {
     "data": {
      "text/plain": [
       "DatetimeIndex(['2001-01-01', '2001-01-02', '2001-01-03', '2001-01-04',\n",
       "               '2001-01-05', '2001-01-06', '2001-01-07', '2001-01-08',\n",
       "               '2001-01-09', '2001-01-10', '2001-01-11', '2001-01-12',\n",
       "               '2002-01-01', '2002-01-02', '2002-01-03', '2002-01-04',\n",
       "               '2002-01-05', '2002-01-06', '2002-01-07', '2002-01-08',\n",
       "               '2002-01-09', '2002-01-10', '2002-01-11', '2002-01-12',\n",
       "               '2003-01-01', '2003-01-02', '2003-01-03', '2003-01-04',\n",
       "               '2003-01-05', '2003-01-06', '2003-01-07', '2003-01-08',\n",
       "               '2003-01-09', '2003-01-10', '2003-01-11', '2003-01-12'],\n",
       "              dtype='datetime64[ns]', name='Month', freq=None)"
      ]
     },
     "execution_count": 18,
     "metadata": {},
     "output_type": "execute_result"
    }
   ],
   "source": [
    "sales.index"
   ]
  },
  {
   "cell_type": "code",
   "execution_count": 19,
   "metadata": {},
   "outputs": [],
   "source": [
    "series= sales.copy()"
   ]
  },
  {
   "cell_type": "code",
   "execution_count": 22,
   "metadata": {},
   "outputs": [
    {
     "data": {
      "text/plain": [
       "Month\n",
       "2001-01-01    266.0\n",
       "2001-01-02    145.9\n",
       "2001-01-03    183.1\n",
       "2001-01-04    119.3\n",
       "2001-01-05    180.3\n",
       "2001-01-06    168.5\n",
       "2001-01-07    231.8\n",
       "2001-01-08    224.5\n",
       "2001-01-09    192.8\n",
       "2001-01-10    122.9\n",
       "2001-01-11    336.5\n",
       "2001-01-12    185.9\n",
       "2002-01-01    194.3\n",
       "2002-01-02    149.5\n",
       "2002-01-03    210.1\n",
       "2002-01-04    273.3\n",
       "2002-01-05    191.4\n",
       "2002-01-06    287.0\n",
       "2002-01-07    226.0\n",
       "2002-01-08    303.6\n",
       "2002-01-09    289.9\n",
       "2002-01-10    421.6\n",
       "2002-01-11    264.5\n",
       "2002-01-12    342.3\n",
       "2003-01-01    339.7\n",
       "2003-01-02    440.4\n",
       "2003-01-03    315.9\n",
       "2003-01-04    439.3\n",
       "2003-01-05    401.3\n",
       "2003-01-06    437.4\n",
       "2003-01-07    575.5\n",
       "2003-01-08    407.6\n",
       "2003-01-09    682.0\n",
       "2003-01-10    475.3\n",
       "2003-01-11    581.3\n",
       "2003-01-12    646.9\n",
       "Name: Sales, dtype: float64"
      ]
     },
     "execution_count": 22,
     "metadata": {},
     "output_type": "execute_result"
    }
   ],
   "source": [
    "series"
   ]
  },
  {
   "cell_type": "code",
   "execution_count": 23,
   "metadata": {},
   "outputs": [
    {
     "data": {
      "text/plain": [
       "Month\n",
       "2001-01-01    266.0\n",
       "2001-01-02    145.9\n",
       "2001-01-03    183.1\n",
       "2001-01-04    119.3\n",
       "2001-01-05    180.3\n",
       "Name: Sales, dtype: float64"
      ]
     },
     "execution_count": 23,
     "metadata": {},
     "output_type": "execute_result"
    }
   ],
   "source": [
    "series.head()"
   ]
  },
  {
   "cell_type": "code",
   "execution_count": 24,
   "metadata": {
    "scrolled": true
   },
   "outputs": [
    {
     "data": {
      "image/png": "[encoded data removed]",
      "text/plain": [
       "<Figure size 432x288 with 1 Axes>"
      ]
     },
     "metadata": {
      "needs_background": "light"
     },
     "output_type": "display_data"
    }
   ],
   "source": [
    "series.plot()\n",
    "pyplot.show()"
   ]
  },
  {
   "cell_type": "code",
   "execution_count": 25,
   "metadata": {},
   "outputs": [
    {
     "name": "stderr",
     "output_type": "stream",
     "text": [
      "C:\\Users\\melchiz shroff\\Anaconda3\\lib\\site-packages\\statsmodels\\tsa\\base\\tsa_model.py:219: ValueWarning: A date index has been provided, but it has no associated frequency information and so will be ignored when e.g. forecasting.\n",
      "  ' ignored when e.g. forecasting.', ValueWarning)\n",
      "C:\\Users\\melchiz shroff\\Anaconda3\\lib\\site-packages\\statsmodels\\tsa\\base\\tsa_model.py:219: ValueWarning: A date index has been provided, but it has no associated frequency information and so will be ignored when e.g. forecasting.\n",
      "  ' ignored when e.g. forecasting.', ValueWarning)\n"
     ]
    },
    {
     "name": "stdout",
     "output_type": "stream",
     "text": [
      "                             ARIMA Model Results                              \n",
      "==============================================================================\n",
      "Dep. Variable:                D.Sales   No. Observations:                   35\n",
      "Model:                 ARIMA(5, 1, 0)   Log Likelihood                -196.170\n",
      "Method:                       css-mle   S.D. of innovations             64.241\n",
      "Date:                Sat, 17 Oct 2020   AIC                            406.340\n",
      "Time:                        21:59:59   BIC                            417.227\n",
      "Sample:                             1   HQIC                           410.098\n",
      "                                                                              \n",
      "=================================================================================\n",
      "                    coef    std err          z      P>|z|      [0.025      0.975]\n",
      "---------------------------------------------------------------------------------\n",
      "const            12.0649      3.652      3.304      0.003       4.908      19.222\n",
      "ar.L1.D.Sales    -1.1082      0.183     -6.063      0.000      -1.466      -0.750\n",
      "ar.L2.D.Sales    -0.6203      0.282     -2.203      0.036      -1.172      -0.068\n",
      "ar.L3.D.Sales    -0.3606      0.295     -1.222      0.231      -0.939       0.218\n",
      "ar.L4.D.Sales    -0.1252      0.280     -0.447      0.658      -0.674       0.424\n",
      "ar.L5.D.Sales     0.1289      0.191      0.673      0.506      -0.246       0.504\n",
      "                                    Roots                                    \n",
      "=============================================================================\n",
      "                  Real          Imaginary           Modulus         Frequency\n",
      "-----------------------------------------------------------------------------\n",
      "AR.1           -1.0617           -0.5064j            1.1763           -0.4292\n",
      "AR.2           -1.0617           +0.5064j            1.1763            0.4292\n",
      "AR.3            0.0816           -1.3804j            1.3828           -0.2406\n",
      "AR.4            0.0816           +1.3804j            1.3828            0.2406\n",
      "AR.5            2.9315           -0.0000j            2.9315           -0.0000\n",
      "-----------------------------------------------------------------------------\n"
     ]
    }
   ],
   "source": [
    "# fit model\n",
    "model = ARIMA(series, order=(5,1,0))\n",
    "model_fit = model.fit(disp=0)\n",
    "print(model_fit.summary())"
   ]
  },
  {
   "cell_type": "code",
   "execution_count": 26,
   "metadata": {},
   "outputs": [
    {
     "data": {
      "text/plain": [
       "array([266. , 145.9, 183.1, 119.3, 180.3, 168.5, 231.8, 224.5, 192.8,\n",
       "       122.9, 336.5, 185.9, 194.3, 149.5, 210.1, 273.3, 191.4, 287. ,\n",
       "       226. , 303.6, 289.9, 421.6, 264.5, 342.3, 339.7, 440.4, 315.9,\n",
       "       439.3, 401.3, 437.4, 575.5, 407.6, 682. , 475.3, 581.3, 646.9])"
      ]
     },
     "execution_count": 26,
     "metadata": {},
     "output_type": "execute_result"
    }
   ],
   "source": [
    "X = series.values\n",
    "X"
   ]
  },
  {
   "cell_type": "code",
   "execution_count": 27,
   "metadata": {},
   "outputs": [],
   "source": [
    "size = int(len(X) * 0.66)"
   ]
  },
  {
   "cell_type": "code",
   "execution_count": 28,
   "metadata": {},
   "outputs": [],
   "source": [
    "train, test = X[0:size], X[size:len(X)]"
   ]
  },
  {
   "cell_type": "code",
   "execution_count": 29,
   "metadata": {},
   "outputs": [],
   "source": [
    "history = [x for x in train]"
   ]
  },
  {
   "cell_type": "code",
   "execution_count": 30,
   "metadata": {},
   "outputs": [
    {
     "name": "stdout",
     "output_type": "stream",
     "text": [
      "predicted=349.117793, expected=342.300000\n",
      "predicted=306.512947, expected=339.700000\n",
      "predicted=387.376475, expected=440.400000\n",
      "predicted=348.154206, expected=315.900000\n",
      "predicted=386.308816, expected=439.300000\n",
      "predicted=356.082003, expected=401.300000\n",
      "predicted=446.379451, expected=437.400000\n",
      "predicted=394.737308, expected=575.500000\n",
      "predicted=434.915490, expected=407.600000\n",
      "predicted=507.923462, expected=682.000000\n",
      "predicted=435.482756, expected=475.300000\n",
      "predicted=652.743802, expected=581.300000\n",
      "predicted=546.343484, expected=646.900000\n",
      "Test MSE: 6958.325\n"
     ]
    }
   ],
   "source": [
    "predictions = list()\n",
    "for t in range(len(test)):\n",
    "    model = ARIMA(history, order=(5,1,0))\n",
    "    model_fit = model.fit(disp=0)\n",
    "    output = model_fit.forecast()\n",
    "    yhat = output[0]\n",
    "    predictions.append(yhat)\n",
    "    obs = test[t]\n",
    "    history.append(obs)\n",
    "    print('predicted=%f, expected=%f' % (yhat, obs))\n",
    "error = mean_squared_error(test, predictions)\n",
    "print('Test MSE: %.3f' % error)"
   ]
  },
  {
   "cell_type": "code",
   "execution_count": 31,
   "metadata": {},
   "outputs": [
    {
     "data": {
      "image/png": "[encoded data removed]",
      "text/plain": [
       "<Figure size 432x288 with 1 Axes>"
      ]
     },
     "metadata": {
      "needs_background": "light"
     },
     "output_type": "display_data"
    }
   ],
   "source": [
    "pyplot.plot(test)\n",
    "pyplot.plot(predictions, color='red')\n",
    "pyplot.show()"
   ]
  },
  {
   "cell_type": "code",
   "execution_count": null,
   "metadata": {},
   "outputs": [],
   "source": []
  },
  {
   "cell_type": "code",
   "execution_count": null,
   "metadata": {},
   "outputs": [],
   "source": []
  },
  {
   "cell_type": "code",
   "execution_count": null,
   "metadata": {},
   "outputs": [],
   "source": []
  },
  {
   "cell_type": "code",
   "execution_count": null,
   "metadata": {},
   "outputs": [],
   "source": []
  }
 ],
 "metadata": {
  "kernelspec": {
   "display_name": "Python 3",
   "language": "python",
   "name": "python3"
  },
  "language_info": {
   "codemirror_mode": {
    "name": "ipython",
    "version": 3
   },
   "file_extension": ".py",
   "mimetype": "text/x-python",
   "name": "python",
   "nbconvert_exporter": "python",
   "pygments_lexer": "ipython3",
   "version": "3.7.4"
  }
 },
 "nbformat": 4,
 "nbformat_minor": 2
}
