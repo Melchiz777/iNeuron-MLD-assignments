{
 "cells": [
  {
   "cell_type": "markdown",
   "metadata": {},
   "source": [
    "Write a function to find moving average in an array over a window:\n",
    " Test it over [3, 5, 7, 2, 8, 10, 11, 65, 72, 81, 99, 100, 150] and window of 3."
   ]
  },
  {
   "cell_type": "code",
   "execution_count": 1,
   "metadata": {},
   "outputs": [],
   "source": [
    "import numpy as np"
   ]
  },
  {
   "cell_type": "code",
   "execution_count": 2,
   "metadata": {},
   "outputs": [],
   "source": [
    "def mov_avg(arr,n,k):\n",
    "    \n",
    "    i=0\n",
    "    moving_average= np.array([])\n",
    "    while i < len(arr)-k+1:\n",
    "        cur_window= arr[i:i+k]\n",
    "        cur_window_avg= sum(cur_window)/k\n",
    "        moving_average= np.append(moving_average,cur_window_avg)\n",
    "        i+=1\n",
    "    return moving_average "
   ]
  },
  {
   "cell_type": "code",
   "execution_count": 3,
   "metadata": {},
   "outputs": [
    {
     "name": "stdout",
     "output_type": "stream",
     "text": [
      "3,5,7,2,8,10,11,65,72,81,99,100,150\n",
      "Enter the window size: 3\n",
      "[  5.           4.66666667   5.66666667   6.66666667   9.66666667\n",
      "  28.66666667  49.33333333  72.66666667  84.          93.33333333\n",
      " 116.33333333]\n"
     ]
    }
   ],
   "source": [
    "arr= list(map(int,input().strip().split(',')))\n",
    "n= len(arr)\n",
    "k= int(input(\"Enter the window size: \"))\n",
    "\n",
    "result= mov_avg(arr,n,k)\n",
    "\n",
    "print(result)"
   ]
  },
  {
   "cell_type": "markdown",
   "metadata": {},
   "source": [
    "Write a function so that the columns of the output matrix are powers of the input\n",
    "vector.\n",
    "The order of the powers is determined by the increasing boolean argument. Specifically, when\n",
    "increasing is False, the i-th output column is the input vector raised element-wise to the power\n",
    "of N - i - 1.\n",
    "HINT: Such a matrix with a geometric progression in each row is named for AlexandreTheophile Vandermonde."
   ]
  },
  {
   "cell_type": "code",
   "execution_count": 4,
   "metadata": {},
   "outputs": [],
   "source": [
    "def vandermonde_matrix(array, n, increasing=False):\n",
    "    \n",
    "    if not increasing:\n",
    "        op = np.array([x**(n-1-i) for x in array for i in range(n)]).reshape(array.size,n)\n",
    "    elif increasing:\n",
    "        op = np.array([x**i for x in array for i in range(n)]).reshape(array.size,n)\n",
    "    \n",
    "    return op"
   ]
  },
  {
   "cell_type": "code",
   "execution_count": 5,
   "metadata": {},
   "outputs": [
    {
     "name": "stdout",
     "output_type": "stream",
     "text": [
      "Enter the no of columns needed in the output matrix: 3\n"
     ]
    }
   ],
   "source": [
    "inp= np.array([1,3,7,5,6])\n",
    "no_columns= int(input(\"Enter the no of columns needed in the output matrix: \"))\n",
    "out_power_not_increasing= vandermonde_matrix(inp,no_columns,False)\n",
    "out_power_increasing= vandermonde_matrix(inp,no_columns,True)"
   ]
  },
  {
   "cell_type": "code",
   "execution_count": 6,
   "metadata": {},
   "outputs": [
    {
     "name": "stdout",
     "output_type": "stream",
     "text": [
      "The vandermonde matrix with powers are not increasing:\n",
      " [[ 1  1  1]\n",
      " [ 9  3  1]\n",
      " [49  7  1]\n",
      " [25  5  1]\n",
      " [36  6  1]]\n",
      "The vandermonde matrix with powers are increasing:\n",
      " [[ 1  1  1]\n",
      " [ 1  3  9]\n",
      " [ 1  7 49]\n",
      " [ 1  5 25]\n",
      " [ 1  6 36]]\n"
     ]
    }
   ],
   "source": [
    "print(\"The vandermonde matrix with powers are not increasing:\\n\",out_power_not_increasing)\n",
    "print(\"The vandermonde matrix with powers are increasing:\\n\",out_power_increasing)"
   ]
  },
  {
   "cell_type": "code",
   "execution_count": null,
   "metadata": {},
   "outputs": [],
   "source": []
  },
  {
   "cell_type": "code",
   "execution_count": null,
   "metadata": {},
   "outputs": [],
   "source": []
  },
  {
   "cell_type": "code",
   "execution_count": null,
   "metadata": {},
   "outputs": [],
   "source": []
  }
 ],
 "metadata": {
  "kernelspec": {
   "display_name": "Python 3",
   "language": "python",
   "name": "python3"
  },
  "language_info": {
   "codemirror_mode": {
    "name": "ipython",
    "version": 3
   },
   "file_extension": ".py",
   "mimetype": "text/x-python",
   "name": "python",
   "nbconvert_exporter": "python",
   "pygments_lexer": "ipython3",
   "version": "3.7.4"
  }
 },
 "nbformat": 4,
 "nbformat_minor": 2
}
