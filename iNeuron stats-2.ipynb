{
 "cells": [
  {
   "cell_type": "markdown",
   "metadata": {},
   "source": [
    "Problem Statement 1:\n",
    "\n",
    "In each of the following situations, state whether it is a correctly stated hypothesis\n",
    "testing problem and why?\n",
    "\n",
    "1. 𝐻0: 𝜇 = 25, 𝐻1: 𝜇 ≠ 25\n",
    "2. 𝐻0: 𝜎 > 10, 𝐻1: 𝜎 = 10\n",
    "3. 𝐻0: 𝑥 = 50, 𝐻1: 𝑥 ≠ 50\n",
    "4. 𝐻0: 𝑝 = 0.1, 𝐻1: 𝑝 = 0.5\n",
    "5. 𝐻0: 𝑠 = 30, 𝐻1: 𝑠 > 30"
   ]
  },
  {
   "cell_type": "code",
   "execution_count": 1,
   "metadata": {},
   "outputs": [
    {
     "name": "stdout",
     "output_type": "stream",
     "text": [
      "In examples 2 and 4 seem to be erroneous. \n",
      "  In example no 2 null hypothesis does have a statement formulating equality like (=, <=, >=). \n",
      " In example no 4 the alternate hypothesis is also equated or has equality statement, no decision can be arrived on such a pair as it would be easier to reject the null hypothesis if one is able to prove if p!= 0.1 or p>0.1. \n",
      " Otherwise all the other pair of hypothesis statements are free from errors. \n"
     ]
    }
   ],
   "source": [
    "print(\"In examples 2 and 4 seem to be erroneous. \\n  In example no 2 null hypothesis does have a statement formulating equality like (=, <=, >=). \\n In example no 4 the alternate hypothesis is also equated or has equality statement, no decision can be arrived on such a pair as it would be easier to reject the null hypothesis if one is able to prove if p!= 0.1 or p>0.1. \\n Otherwise all the other pair of hypothesis statements are free from errors. \")"
   ]
  },
  {
   "cell_type": "markdown",
   "metadata": {},
   "source": [
    "Problem Statement 2:\n",
    "    \n",
    "The college bookstore tells prospective students that the average cost of its\n",
    "textbooks is Rs. 52 with a standard deviation of Rs. 4.50. A group of smart statistics\n",
    "students thinks that the average cost is higher. To test the bookstore’s claim against\n",
    "their alternative, the students will select a random sample of size 100. Assume that\n",
    "the mean from their random sample is Rs. 52.80. Perform a hypothesis test at the\n",
    "5% level of significance and state your decision."
   ]
  },
  {
   "cell_type": "code",
   "execution_count": 2,
   "metadata": {},
   "outputs": [
    {
     "name": "stdout",
     "output_type": "stream",
     "text": [
      "At 5% level of significance, the computed value of 1.78 doesnt come under the critical region and so we accept the null hypothesis. \n",
      " The mean cost of the textbooks is Rs.52\n"
     ]
    }
   ],
   "source": [
    "import math\n",
    "#Hypothesis testing\n",
    "#H0: mu= 52\n",
    "#H1: mu!= 52\n",
    "\n",
    "#At 5% level of significance\n",
    "mu =52 # population mean\n",
    "S= 4.5 #population standard deviation\n",
    "n= 100 #sample size\n",
    "x= 52.8 #sample mean\n",
    "\n",
    "z= (x-mu)/(S/math.sqrt(100))\n",
    "\n",
    "#alpha= 0.05, #for two tailed test 0.05/2= 0.025\n",
    "#P(1-0.025)= P(Z<z)= 0.975, the critical value is -1.96 and 1.96\n",
    "\n",
    "print('At 5% level of significance, the computed value of 1.78 doesnt come under the critical region and so we accept the null hypothesis. \\n The mean cost of the textbooks is Rs.52')\n",
    "\n"
   ]
  },
  {
   "cell_type": "markdown",
   "metadata": {},
   "source": [
    "Problem Statement 3:\n",
    "\n",
    "A certain chemical pollutant in the Genesee River has been constant for several\n",
    "years with mean μ = 34 ppm (parts per million) and standard deviation σ = 8 ppm. A\n",
    "group of factory representatives whose companies discharge liquids into the river is\n",
    "now claiming that they have lowered the average with improved filtration devices. A\n",
    "group of environmentalists will test to see if this is true at the 1% level of\n",
    "significance. Assume \\ that their sample of size 50 gives a mean of 32.5 ppm.\n",
    "Perform a hypothesis test at the 1% level of significance and state your decision."
   ]
  },
  {
   "cell_type": "code",
   "execution_count": 3,
   "metadata": {},
   "outputs": [
    {
     "name": "stdout",
     "output_type": "stream",
     "text": [
      "At 1% level of significance the computed value -1.3258252147247767 comes under the acceptance region and hence we accept null hypothesis\n"
     ]
    }
   ],
   "source": [
    "#H0: mu =34\n",
    "#H1: mu!= 34\n",
    "\n",
    "mu =34 # population mean\n",
    "n= 50 #sample size\n",
    "sigma= 8 #population standard deviation\n",
    "x= 32.5 #sample mean\n",
    "\n",
    "z= (x-mu)/(sigma/math.sqrt(50))\n",
    "\n",
    "#The critical value at 1% level of significance for a two-tailed test from the table is -2.57 and 2.57\n",
    "\n",
    "print(\"At 1% level of significance the computed value {} comes under the acceptance region and hence we accept null hypothesis\".format(z))\n",
    "\n"
   ]
  },
  {
   "cell_type": "markdown",
   "metadata": {},
   "source": [
    "Problem Statement 4:\n",
    "\n",
    "Based on population figures and other general information on the U.S. population,\n",
    "suppose it has been estimated that, on average, a family of four in the U.S. spends\n",
    "about $1135 annually on dental expenditures. Suppose further that a regional dental\n",
    "association wants to test to determine if this figure is accurate for their area of\n",
    "country. To test this, 22 families of 4 are randomly selected from the population in\n",
    "that area of the country and a log is kept of the family’s dental expenditure for one\n",
    "year. The resulting data are given below. Assuming, that dental expenditure is\n",
    "normally distributed in the population, use the data and an alpha of 0.5 to test the\n",
    "dental association’s hypothesis.\n",
    "\n",
    "1008, 812, 1117, 1323, 1308, 1415, 831, 1021, 1287, 851, 930, 730, 699,\n",
    "\n",
    "872, 913, 944, 954, 987, 1695, 995, 1003, 994"
   ]
  },
  {
   "cell_type": "code",
   "execution_count": 4,
   "metadata": {},
   "outputs": [
    {
     "data": {
      "text/plain": [
       "1031.3181818181818"
      ]
     },
     "execution_count": 4,
     "metadata": {},
     "output_type": "execute_result"
    }
   ],
   "source": [
    "#H0: mu =1135\n",
    "#H1: mu!= 1135\n",
    "\n",
    "import statistics\n",
    "l= [1008, 812, 1117, 1323, 1308, 1415, 831, 1021, 1287, 851, 930, 730, 699,872, 913, 944, 954, 987, 1695, 995, 1003, 994]\n",
    "\n",
    "statistics.mean(l)"
   ]
  },
  {
   "cell_type": "code",
   "execution_count": 5,
   "metadata": {},
   "outputs": [
    {
     "name": "stdout",
     "output_type": "stream",
     "text": [
      "240.37458593184255\n"
     ]
    }
   ],
   "source": [
    "import math\n",
    "lis=[]\n",
    "for i in l:\n",
    "    val= ((i-1031.32)**2/(22-1))\n",
    "    lis.append(val)\n",
    "\n",
    "std= sum(lis)\n",
    "st= math.sqrt(std)\n",
    "print(st)"
   ]
  },
  {
   "cell_type": "code",
   "execution_count": 6,
   "metadata": {},
   "outputs": [
    {
     "name": "stdout",
     "output_type": "stream",
     "text": [
      "The mean of the sample is 1031.3181818181818 \n",
      "The standard deviation of the sample is 240.37458593184255\n"
     ]
    }
   ],
   "source": [
    "print(\"The mean of the sample is {} \\nThe standard deviation of the sample is {}\".format(statistics.mean(l),st))"
   ]
  },
  {
   "cell_type": "code",
   "execution_count": 61,
   "metadata": {},
   "outputs": [],
   "source": [
    "#the statisitic for the problem\n",
    "x= 1031.32 # sample mean\n",
    "s= 240.38 # sample standard deviation\n",
    "mu = 1135 # population mean\n",
    "n= 22 # sample size"
   ]
  },
  {
   "cell_type": "code",
   "execution_count": 62,
   "metadata": {},
   "outputs": [],
   "source": [
    "z= ((x-mu)/(s))"
   ]
  },
  {
   "cell_type": "code",
   "execution_count": 63,
   "metadata": {},
   "outputs": [
    {
     "name": "stdout",
     "output_type": "stream",
     "text": [
      "Since the z = -0.431317081287961 falls under the accepted region of +/-1.96 we can accept the null hypothesis and conclude that the dental expenditure for the population is accurate for that paritcular area\n"
     ]
    }
   ],
   "source": [
    "#At 5% level of significance the critical value is -1.96 and 1.96\n",
    "print(\"Since the z = {} falls under the accepted region of +/-1.96 we can accept the null hypothesis and conclude that the dental expenditure for the population is accurate for that paritcular area\".format(z))"
   ]
  },
  {
   "cell_type": "markdown",
   "metadata": {},
   "source": [
    "Problem Statement 5:\n",
    "\n",
    "In a report prepared by the Economic Research Department of a major bank the\n",
    "Department manager maintains that the average annual family income on Metropolis\n",
    "is $48,432. \n",
    "\n",
    "What do you conclude about the validity of the report if a random sample\n",
    "of 400 families shows and average income of $48,574 with a standard deviation of\n",
    "2000?"
   ]
  },
  {
   "cell_type": "code",
   "execution_count": 64,
   "metadata": {},
   "outputs": [],
   "source": [
    "#H0: mu= 48432\n",
    "#H1: mu!= 48432\n",
    "\n",
    "mu= 48432 #population mean\n",
    "s= 2000 #sample standard deviation\n",
    "x= 48574 #sample mean\n",
    "n =400 # sample size\n",
    "\n",
    "z= ((x-mu)/(s))\n"
   ]
  },
  {
   "cell_type": "code",
   "execution_count": 66,
   "metadata": {},
   "outputs": [
    {
     "name": "stdout",
     "output_type": "stream",
     "text": [
      "The computed z value 0.071 falls under the accepted region at 5% level of significance and hence we acceptt the null hypothesis. \n",
      "It is therefore safe to conclude that average annual family income on metropolis is around $ 48432\n"
     ]
    }
   ],
   "source": [
    "#As level of significance is not mentioned we can use standard level of significance at 5%\n",
    "\n",
    "#From the table at alpha= 0.05 the critical value is -1.96 and 1.96\n",
    "\n",
    "print(\"The computed z value {} falls under the accepted region at 5% level of significance and hence we acceptt the null hypothesis. \\nIt is therefore safe to conclude that average annual family income on metropolis is around $ {}\".format(z,mu))"
   ]
  },
  {
   "cell_type": "markdown",
   "metadata": {},
   "source": [
    "Problem Statement 6:\n",
    "\n",
    "Suppose that in past years the average price per square foot for warehouses in the\n",
    "United States has been $32.28\n",
    "\n",
    "A national real estate investor wants to determine\n",
    "whether that figure has changed now. The investor hires a researcher who randomly\n",
    "samples 19 warehouses that are for sale across the United States and finds that the\n",
    "mean price per square foot is $31.67, with a standard deviation of $1.29. \n",
    "\n",
    "assume\n",
    "that the prices of warehouse footage are normally distributed in population. If the\n",
    "researcher uses a 5% level of significance, what statistical conclusion can be\n",
    "reached? What are the hypotheses?\n"
   ]
  },
  {
   "cell_type": "code",
   "execution_count": 12,
   "metadata": {},
   "outputs": [],
   "source": [
    "#H0: mu =32.28\n",
    "#H1: mu != 32.28\n",
    "\n",
    "mu= 32.28 #population mean\n",
    "x= 31.67 #sample mean\n",
    "s= 1.29 #sample standard deviation\n",
    "n= 19 #sample size\n",
    "\n",
    "z=((x-mu)/(s/math.sqrt(n)))"
   ]
  },
  {
   "cell_type": "code",
   "execution_count": 13,
   "metadata": {},
   "outputs": [
    {
     "name": "stdout",
     "output_type": "stream",
     "text": [
      "The computed value -2.06118477175179 falls in critical region and hence null hypothesis is rejected\n"
     ]
    }
   ],
   "source": [
    "#At 5% level of significance, the critical value is -1.96 and 1.96\n",
    "\n",
    "print(\"The computed value {} falls in critical region and hence null hypothesis is rejected\".format(z))"
   ]
  },
  {
   "cell_type": "markdown",
   "metadata": {},
   "source": [
    "Problem Statement 7:\n",
    "\n",
    "Fill in the blank spaces in the table and draw your conclusions from it."
   ]
  },
  {
   "cell_type": "code",
   "execution_count": 14,
   "metadata": {},
   "outputs": [],
   "source": [
    "import numpy as np              #Creating array of numbers between given range\n",
    "def rand(start, end, num):\n",
    "    res= []\n",
    "    np.random.seed(1234)\n",
    "    \n",
    "    for i in range(num):\n",
    "        res.append(np.random.uniform(start,end))\n",
    "    return res"
   ]
  },
  {
   "cell_type": "code",
   "execution_count": 30,
   "metadata": {},
   "outputs": [],
   "source": [
    "def stdev(lis, size):       #Deducing the standard deviation from the sample\n",
    "    import math\n",
    "    import statistics\n",
    "    col= []\n",
    "    for k in lis:\n",
    "        d= ((k-statistics.mean(lis))**2/(size-1))\n",
    "        col.append(d)\n",
    "    add= sum(col)\n",
    "    std= math.sqrt(add)\n",
    "    return std"
   ]
  },
  {
   "cell_type": "markdown",
   "metadata": {},
   "source": [
    "48.5 < x< 51.5, sample_size=10, alpha= ?, beta @mu=52, beta @mu50.5"
   ]
  },
  {
   "cell_type": "code",
   "execution_count": 31,
   "metadata": {},
   "outputs": [],
   "source": [
    "a= rand(48.5,51.5,10)\n",
    "s1= stdev(a,10)"
   ]
  },
  {
   "cell_type": "code",
   "execution_count": 33,
   "metadata": {},
   "outputs": [
    {
     "name": "stdout",
     "output_type": "stream",
     "text": [
      "The alpha value at given mean is 0.07669999999999999\n",
      "The beta value at mu =52 is 0.2776 \n",
      "beta value at mu=50.5 is 0.8719\n"
     ]
    }
   ],
   "source": [
    "#Calculating alpha @ mu=50\n",
    "mu1= statistics.mean(a)\n",
    "\n",
    "\"\"\" alpha is the probability of rejecting H0 when it is true\n",
    "alpha= P(X<48.5; mu=50)+P(X>51.5; mu=50)\"\"\"\n",
    "\n",
    "z1= ((48.5-mu1)/s1)\n",
    "z2= ((51.5-mu1)/s1)\n",
    "\n",
    "#alpha= P(Z<z1)+P(Z>z2)\n",
    "\n",
    "alpha= 0.0384+0.0383\n",
    "\n",
    "\"\"\"beta is the probability of failing to reject Ho when it is false\n",
    "beta= P(48.5<X<51.5, mu=52) and beta = P(48.5<X<51.5, mu= 50.5)\"\"\"\n",
    "\n",
    "z3= ((48.5-52)/s1)\n",
    "z4= ((51.5-52)/s1)\n",
    "\n",
    "#beta= P(Z<z4)-P(Z<z3)\n",
    "\n",
    "beta1= 0.2776-0.0000\n",
    "\n",
    "z5= ((48.5-50.5)/s1)\n",
    "z6= ((51.5-50.5)/s1)\n",
    "\n",
    "beta2= 0.8810-0.0091\n",
    "\n",
    "print(\"The alpha value at given mean is {}\".format(alpha))\n",
    "print(\"The beta value at mu =52 is {} \\nbeta value at mu=50.5 is {}\".format(beta1, beta2))\n"
   ]
  },
  {
   "cell_type": "markdown",
   "metadata": {},
   "source": [
    "48<X<52, n=10, alpha=?, beta @mu=52 and beta @mu=50.5"
   ]
  },
  {
   "cell_type": "code",
   "execution_count": 18,
   "metadata": {},
   "outputs": [],
   "source": [
    "n=10\n",
    "b= rand(48,52,n)\n",
    "s2= stdev(b,n)"
   ]
  },
  {
   "cell_type": "code",
   "execution_count": 19,
   "metadata": {},
   "outputs": [
    {
     "name": "stdout",
     "output_type": "stream",
     "text": [
      "The alpha value at given mean is 0.09 \n",
      "The beta value at mu=52 is 0.5 and beta at mu =50.5 is 0.893\n"
     ]
    }
   ],
   "source": [
    "mu2= statistics.mean(b)\n",
    "\n",
    "#alpha= P(X<48, mu2)+P(X>52, mu2)\n",
    "z11= ((48-mu2)/s2)\n",
    "z12= ((52-mu2)/s2)\n",
    "\n",
    "alpha= 0.0170+0.073\n",
    "\n",
    "#beta1= P(48<X<52, mu=52)\n",
    "z13= ((48-52)/s2)\n",
    "z14= ((52-52)/s2)\n",
    "\n",
    "beta1= 0.5000-0.0000\n",
    "\n",
    "#beta2= P(48<X<52, mu=50.5)\n",
    "z15= ((48-50.5)/s2)\n",
    "z16= ((52-50.5)/s2)\n",
    "\n",
    "beta2= 0.9066-0.0136\n",
    "\n",
    "print(\"The alpha value at given mean is {} \".format(alpha))\n",
    "print(\"The beta value at mu=52 is {} and beta at mu =50.5 is {}\".format(beta1, beta2))"
   ]
  },
  {
   "cell_type": "markdown",
   "metadata": {},
   "source": [
    "48.81<X<51.9 , n=16, alpha=?, beta @ mu=52 and beta @ mu=50.5"
   ]
  },
  {
   "cell_type": "code",
   "execution_count": 20,
   "metadata": {},
   "outputs": [],
   "source": [
    "n=16\n",
    "c= rand(48.81, 51.9, n)\n",
    "s3= stdev(c, n)"
   ]
  },
  {
   "cell_type": "code",
   "execution_count": 21,
   "metadata": {},
   "outputs": [
    {
     "name": "stdout",
     "output_type": "stream",
     "text": [
      "The alpha value at given mean is 0.0454\n",
      "The beta value when mu =52 is 0.4483 \n",
      "The beta value when mu =50.5 is 0.9603\n"
     ]
    }
   ],
   "source": [
    "mu3= statistics.mean(c)\n",
    "\n",
    "#alpha= P(X<48.81, mu3)+P(X>51.9, mu3)\n",
    "\n",
    "z21= ((48.81-mu3)/s3)\n",
    "z22= ((51.9-mu3)/s3)\n",
    "\n",
    "alpha = 0.0080+0.0374\n",
    "\n",
    "#beta= P(X<51.9, mu=52)-P(X<48.81, mu=52)\n",
    "z23= ((48.81-52)/s3)\n",
    "z24= ((51.9-52)/s3)\n",
    "\n",
    "beta1= 0.4483-0.0000\n",
    "\n",
    "#beta= P(X<51.9, mu=50.5)-P(X<48.81, mu=50.5)\n",
    "z25= ((48.81-50.5)/s3)\n",
    "z26= ((51.9- 50.5)/s3)\n",
    "\n",
    "beta2= 0.9713-0.0110\n",
    "\n",
    "print(\"The alpha value at given mean is {}\".format(alpha))\n",
    "print(\"The beta value when mu =52 is {} \\nThe beta value when mu =50.5 is {}\".format(beta1, beta2))"
   ]
  },
  {
   "cell_type": "markdown",
   "metadata": {},
   "source": [
    "48.42<X<51.58, alpha=?, beta @mu=52, beta @mu=50.5"
   ]
  },
  {
   "cell_type": "code",
   "execution_count": 22,
   "metadata": {},
   "outputs": [],
   "source": [
    "n=16\n",
    "d= rand(48.42, 51.58,n)\n",
    "s4= stdev(d, n)"
   ]
  },
  {
   "cell_type": "code",
   "execution_count": 23,
   "metadata": {},
   "outputs": [
    {
     "name": "stdout",
     "output_type": "stream",
     "text": [
      "The alpha value at given mean is 0.0544\n",
      "The beta value at mu=52 is 0.2912 \n",
      "The beta value at mu= 50.5 is 0.9207\n"
     ]
    }
   ],
   "source": [
    "mu4= statistics.mean(d)\n",
    "\n",
    "#alpha= P(X<48.42, mu4)+P(X>51.58, mu4)\n",
    "\n",
    "z41= ((48.42-mu4)/s4)\n",
    "z42= ((51.58-mu4)/s4)\n",
    "\n",
    "alpha= 0.0080+0.0464\n",
    "\n",
    "#beta = P(X<51.58, mu =52)- P(X<48.42, mu=52)\n",
    "\n",
    "z43= ((48.42-52)/s4)\n",
    "z44= ((51.58-52)/s4)\n",
    "\n",
    "beta1= 0.2912-0.0000\n",
    "\n",
    "#beta =P(X<51.58, mu=50.5)- P(X<48.42, mu=50.5)\n",
    "\n",
    "z45= ((48.42-50.5)/s4)\n",
    "z46= ((51.58-50.5)/s4)\n",
    "\n",
    "beta2= 0.9236-0.0029\n",
    "\n",
    "print(\"The alpha value at given mean is {}\".format(alpha))\n",
    "print(\"The beta value at mu=52 is {} \\nThe beta value at mu= 50.5 is {}\".format(beta1, beta2))"
   ]
  },
  {
   "cell_type": "markdown",
   "metadata": {},
   "source": [
    "___________________XXXXXXXXXXXXXXXXXXXXXXXXXXXXXXXXXXX__________________________________________"
   ]
  },
  {
   "cell_type": "markdown",
   "metadata": {},
   "source": [
    "Problem Statement 8:\n",
    "\n",
    "Find the t-score for a sample size of 16 taken from a population with mean 10 when\n",
    "the sample mean is 12 and the sample standard deviation is 1.5"
   ]
  },
  {
   "cell_type": "code",
   "execution_count": 24,
   "metadata": {},
   "outputs": [],
   "source": [
    "#Statistic value\n",
    "x= 12 #sample mean\n",
    "mu=10 #population mean\n",
    "sigma= 1.5 #sample standard deviation\n",
    "n=16 #sample size\n",
    "\n",
    "t_score= (((x-mu))/((sigma/math.sqrt(n-1))))"
   ]
  },
  {
   "cell_type": "code",
   "execution_count": 25,
   "metadata": {},
   "outputs": [
    {
     "data": {
      "text/plain": [
       "5.163977794943222"
      ]
     },
     "execution_count": 25,
     "metadata": {},
     "output_type": "execute_result"
    }
   ],
   "source": [
    "t_score"
   ]
  },
  {
   "cell_type": "markdown",
   "metadata": {},
   "source": [
    "Problem Statement 9:\n",
    "\n",
    "Find the t-score below which we can expect 99% of sample means will fall if samples\n",
    "of size 16 are taken from a normally distributed population."
   ]
  },
  {
   "cell_type": "code",
   "execution_count": 26,
   "metadata": {},
   "outputs": [],
   "source": [
    "#solution\n",
    "\n",
    "\"\"\"1- alpha= 0.99\"\"\"\n",
    "\n",
    "alpha = -(0.99-1)\n",
    "n= 16\n",
    "df= n-1\n",
    "#From the table at given df\n",
    "\"\"\"t_99= -t_001\"\"\"\n",
    "t_001= -2.602\n"
   ]
  },
  {
   "cell_type": "markdown",
   "metadata": {},
   "source": [
    "Problem Statement 10:\n",
    "\n",
    "If a random sample of size 25 drawn from a normal population gives a mean of 60\n",
    "and a standard deviation of 4, find the range of t-scores where we can expect to find\n",
    "the middle 95% of all sample means. Compute the probability that (−𝑡0.05 <𝑡<𝑡0.10)."
   ]
  },
  {
   "cell_type": "code",
   "execution_count": 95,
   "metadata": {},
   "outputs": [
    {
     "name": "stdout",
     "output_type": "stream",
     "text": [
      "[58.31475105696517, 61.68524894303483]\n"
     ]
    }
   ],
   "source": [
    "#statistic values\n",
    "n= 25 #sample size\n",
    "xbar= 60 #sample mean\n",
    "s= 4 #sample standard deviation\n",
    "df= n-1\n",
    "#95% confidence interval to population mean(mu)--Find the range of t-scores\n",
    "\"\"\"t_score= [xbar-(s_1/sqrt(n))*t_005,df ; xbar+(s_1/sqrt(n))*t_005,df]  \"\"\"\n",
    "s_1= math.sqrt(n/(n-1))*s\n",
    "#t_0.05 at df=24 is 2.064 (alpha/2)=(0.05/2=0.025) from the t-table\n",
    "v1= ((xbar)-((s_1/math.sqrt(n))*2.064))\n",
    "v2= ((xbar)+((s_1/math.sqrt(n))*2.064))\n",
    "#At 95% of all sample means the t-score range is\n",
    "t_score_range= [v1, v2]\n",
    "print(t_score_range)\n",
    "\n",
    "\n",
    "# #At given df from t-distribution table\n",
    "# t_005= 1.711\n",
    "# t_001= 1.318\n",
    "\n",
    "\n",
    "\n",
    "          \n",
    "\n"
   ]
  },
  {
   "cell_type": "markdown",
   "metadata": {},
   "source": [
    "Problem Statement 11:\n",
    "\n",
    "Two-tailed test for difference between two population means\n",
    "Is there evidence to conclude that the number of people travelling from Bangalore to\n",
    "Chennai is different from the number of people travelling from Bangalore to Hosur in\n",
    "a week, given the following:\n",
    "\n",
    "Population 1: Bangalore to Chennai n1 = 1200\n",
    "x1 = 452\n",
    "s1 = 212\n",
    "\n",
    "Population 2: Bangalore to Hosur n2 = 800\n",
    "x2 = 523\n",
    "s2 = 185"
   ]
  },
  {
   "cell_type": "code",
   "execution_count": 82,
   "metadata": {},
   "outputs": [
    {
     "name": "stdout",
     "output_type": "stream",
     "text": [
      "-7.926428526759299\n"
     ]
    }
   ],
   "source": [
    "from scipy.stats import  ttest_ind_from_stats\n",
    "import numpy as np\n",
    "\n",
    "#H0: x1=x2\n",
    "#H1: x1!=x2\n",
    "\n",
    "\n",
    "#Population1:\n",
    "n1= 1200\n",
    "x1= 452\n",
    "s1_var= (212)**2\n",
    "\n",
    "#Population2:\n",
    "n2= 800\n",
    "x2= 523\n",
    "s2_var= (185)**2\n",
    "\n",
    "#T-value and p-value:\n",
    "\n",
    "t_stat, p = ttest_ind_from_stats(x1, np.sqrt(s1_var),n1,\n",
    "                           x2, np.sqrt(s2_var), n2, equal_var=False)\n",
    "print(t_stat)"
   ]
  },
  {
   "cell_type": "code",
   "execution_count": 85,
   "metadata": {},
   "outputs": [
    {
     "name": "stdout",
     "output_type": "stream",
     "text": [
      "1.9720174778338955\n",
      "Reject null hypothesis and conclude that the populations are different\n"
     ]
    }
   ],
   "source": [
    "from scipy.stats import t\n",
    "# define probability\n",
    "p2 = 0.975 #two tail test--(1-alpha/2)==(1-0.025)\n",
    "df = n1+n2-2\n",
    "# retrieve value <= probability\n",
    "value = t.ppf(p2, df)\n",
    "print(value)\n",
    "# confirm with cdf\n",
    "# p22 = t.cdf(value, df)\n",
    "# print(p22)\n",
    "if abs(t_stat)<=value:\n",
    "    print(\"Accept null hypothesis that there is no difference between the population travelling from Bangalore to Chennai and Bangalore to Hosur\")\n",
    "else:\n",
    "    print(\"Reject null hypothesis and conclude that the populations are different\")\n"
   ]
  },
  {
   "cell_type": "markdown",
   "metadata": {},
   "source": [
    "Problem Statement 12:\n",
    "\n",
    "Is there evidence to conclude that the number of people preferring Duracell battery is\n",
    "different from the number of people preferring Energizer battery, given the following:\n",
    "\n",
    "Population 1: Duracell\n",
    "n1 = 100\n",
    "x1 = 308\n",
    "s1 = 84\n",
    "\n",
    "Population 2: Energizer\n",
    "n2 = 100\n",
    "x2 = 254\n",
    "s2 = 67\n"
   ]
  },
  {
   "cell_type": "code",
   "execution_count": 84,
   "metadata": {},
   "outputs": [
    {
     "name": "stdout",
     "output_type": "stream",
     "text": [
      "5.025702668336442\n"
     ]
    }
   ],
   "source": [
    "from scipy.stats import ttest_ind_from_stats\n",
    "#H0: x1 =x2\n",
    "#H1: x1!=x2\n",
    "\n",
    "#population1:\n",
    "n1=100\n",
    "x1= 308\n",
    "s1_var= (84)**2\n",
    "\n",
    "#population2:\n",
    "n2= 100\n",
    "x2= 254\n",
    "s2_var= (67)**2\n",
    "\n",
    "t_stat, p= ttest_ind_from_stats(x1,np.sqrt(s1_var),n1,\n",
    "                               x2, np.sqrt(s2_var),n2)\n",
    "\n",
    "print(t_stat)\n"
   ]
  },
  {
   "cell_type": "code",
   "execution_count": 86,
   "metadata": {},
   "outputs": [
    {
     "name": "stdout",
     "output_type": "stream",
     "text": [
      "Reject null hypothesis and conclude the people who prefer the two batteries are different\n"
     ]
    }
   ],
   "source": [
    "#critical value\n",
    "from scipy.stats import t\n",
    "\n",
    "#At 5% level of significance\n",
    "p1= 0.975\n",
    "df= n1+n2-2\n",
    "cv= t.ppf(p1,df)\n",
    "\n",
    "if abs(t_stat)<=cv:\n",
    "    print(\"Accept null hypothesis that there is no difference between the no of people preferring Duracell battery to Energizer battery\")\n",
    "else:\n",
    "    print(\"Reject null hypothesis and conclude the people who prefer the two batteries are different\")\n",
    "    \n"
   ]
  },
  {
   "cell_type": "markdown",
   "metadata": {},
   "source": [
    "Problem Statement 13:\n",
    "\n",
    "Pooled estimate of the population variance\n",
    "Does the data provide sufficient evidence to conclude that average percentage\n",
    "increase in the price of sugar differs when it is sold at two different prices?\n",
    "\n",
    "Population 1: \n",
    "Price of sugar = Rs. 27.50\n",
    "n1 = 14\n",
    "x1 = 0.317%\n",
    "s1 = 0.12%\n",
    "\n",
    "Population 2: \n",
    "Price of sugar = Rs. 20.00 \n",
    "n2 = 9\n",
    "x2 = 0.21%\n",
    "s2 = 0.11%"
   ]
  },
  {
   "cell_type": "code",
   "execution_count": 104,
   "metadata": {},
   "outputs": [
    {
     "name": "stdout",
     "output_type": "stream",
     "text": [
      "Reject the null hypothesis\n"
     ]
    }
   ],
   "source": [
    "#H0: mu1-mu2=0\n",
    "#H1: mu1-mu2 !=0\n",
    "\n",
    "#Population1:\n",
    "n1=14\n",
    "x1= 0.317\n",
    "s1= 0.12\n",
    "s1_var= s1**2\n",
    "\n",
    "#Population2:\n",
    "\n",
    "n2=9\n",
    "x2= 0.21\n",
    "s2= 0.11\n",
    "s2_var=s2**2\n",
    "\n",
    "df= n1+n2-2\n",
    "\"\"\"t= (x1-x2)-(mu1-mu2)0/sp1*(1/n1+1/n2)\"\"\"\n",
    "\n",
    "#Calculating pooled estimate of variance\n",
    "\n",
    "sp1= (((n1-1)*s1_var)+((n2-1)*s2_var))/(df)\n",
    "\n",
    "denom= sp1*((1/14)+(1/9))\n",
    "\n",
    "denom_sqrt= math.sqrt(denom)\n",
    "\n",
    "t= ((x1-x2)/denom_sqrt)\n",
    "\n",
    "#At df=21 and t_0.025 cv= 2.080\n",
    "cv=2.080\n",
    "\n",
    "if abs(t)<=cv:\n",
    "    print(\"Accept the null hypothesis\")\n",
    "else:\n",
    "    print(\"Reject the null hypothesis\")\n",
    "                                  "
   ]
  },
  {
   "cell_type": "markdown",
   "metadata": {},
   "source": [
    "Problem Statement 14:\n",
    "\n",
    "The manufacturers of compact disk players want to test whether a small price\n",
    "reduction is enough to increase sales of their product. Is there evidence that the\n",
    "small price reduction is enough to increase sales of compact disk players?\n",
    "\n",
    "Population 1: \n",
    "Before reduction\n",
    "n1 = 15\n",
    "\n",
    "x1 = Rs. 6598 \n",
    "\n",
    "s1 = Rs. 844\n",
    "\n",
    "Population 2: \n",
    "After reduction \n",
    "n2 = 12\n",
    "\n",
    "x2 = RS. 6870\n",
    "\n",
    "s2 = Rs. 669"
   ]
  },
  {
   "cell_type": "code",
   "execution_count": 112,
   "metadata": {},
   "outputs": [
    {
     "name": "stdout",
     "output_type": "stream",
     "text": [
      "Accept the null hypothesis\n"
     ]
    }
   ],
   "source": [
    "#H0: mu2-mu1<=0\n",
    "#H1: mu2-mu1>0\n",
    "\n",
    "#Population1:\n",
    "\n",
    "n1= 15\n",
    "x1= 6598\n",
    "s1= 844\n",
    "s1_var =(s1)**2\n",
    "\n",
    "#Population2:\n",
    "\n",
    "n2= 12\n",
    "x2=6870\n",
    "s2=669\n",
    "s2_var =(s2)**2\n",
    "\n",
    "df=n1+n2-2\n",
    "\n",
    "sp1= (((n1-1)*s1_var)+((n2-1)*s2_var))/(df)\n",
    "\n",
    "denom= sp1*((1/n1)+(1/n2))\n",
    "\n",
    "denom_sqrt= math.sqrt(denom)\n",
    "\n",
    "t= ((x2-x1)/denom_sqrt)\n",
    "\n",
    "#At 5% level of significance with df = 25 \n",
    "cv= 1.708\n",
    "\n",
    "if abs(t)<=cv:\n",
    "    print(\"Accept the null hypothesis\")\n",
    "else:\n",
    "    print(\"Reject the null hypothesis\")\n"
   ]
  },
  {
   "cell_type": "markdown",
   "metadata": {},
   "source": [
    "Problem Statement 15:\n",
    "\n",
    "Comparisons of two population proportions when the hypothesized difference is zero\n",
    "Carry out a two-tailed test of the equality of banks’ share of the car loan market in\n",
    "1980 and 1995.\n",
    "\n",
    "Population 1: \n",
    "1980\n",
    "n1 = 1000\n",
    "x1 = 53\n",
    "𝑝 1 = 0.53\n",
    "\n",
    "Population 2: \n",
    "1985\n",
    "n2 = 100\n",
    "x2 = 43\n",
    "𝑝 2= 0.53"
   ]
  },
  {
   "cell_type": "code",
   "execution_count": 119,
   "metadata": {},
   "outputs": [
    {
     "name": "stdout",
     "output_type": "stream",
     "text": [
      "The test statistic value 0.0 is between +/- 1.64 and is in the acceptance region and hence the null hypothesis is accepted\n"
     ]
    }
   ],
   "source": [
    "#H0: p1-p2=0\n",
    "#H1: p1-p2!=0\n",
    "\n",
    "#Population1: 1980\n",
    "n1= 1000\n",
    "x1= 53\n",
    "p1_hat= 0.53\n",
    "\n",
    "#Population2: 1985\n",
    "n2=100\n",
    "x2=43\n",
    "p2_hat=0.53\n",
    "\n",
    "p_hat = (x1+x2)/(n1+n2)\n",
    "\n",
    "\n",
    "#test statisitic based on proportions\n",
    "z= ((p1_hat-p2_hat)-0)/math.sqrt((p_hat*(1-p_hat))*((1/n1)+(1/n2)))\n",
    "\n",
    "#At 5% level of significance from z-table/normal distribution table\n",
    "\n",
    "cv= 1.64\n",
    "\n",
    "print(\"The test statistic value {} is between +/- {} and is in the acceptance region and hence the null hypothesis is accepted\".format(z,cv))\n"
   ]
  },
  {
   "cell_type": "markdown",
   "metadata": {},
   "source": [
    "Problem Statement 16:\n",
    "\n",
    "Carry out a one-tailed test to determine whether the population proportion of\n",
    "traveler’s check buyers who buy at least $2500 in checks when sweepstakes prizes\n",
    "are offered as at least 10% higher than the proportion of such buyers when no sweepstakes are on.\n",
    "\n",
    "Population 1: \n",
    "With sweepstakes\n",
    "n1 = 300\n",
    "x1 = 120\n",
    "𝑝 = 0.40\n",
    "\n",
    "Population 2: \n",
    "No sweepstakes \n",
    "n2 = 700\n",
    "x2 = 140\n",
    "𝑝 2= 0.20"
   ]
  },
  {
   "cell_type": "code",
   "execution_count": 155,
   "metadata": {},
   "outputs": [
    {
     "name": "stdout",
     "output_type": "stream",
     "text": [
      "Reject Ho. There is no differnece in proportion of buyers from two given population when sweepstakes were 10% higher than the other.\n"
     ]
    }
   ],
   "source": [
    "#H0: p1-p2<=0.10\n",
    "#H1: p1-p2>0.10\n",
    "\n",
    "#Population1:\n",
    "n1=300\n",
    "x1=120\n",
    "p1_hat= 0.40\n",
    "\n",
    "#Population2:\n",
    "n2=700\n",
    "x2=140\n",
    "p2_hat =0.20\n",
    "\n",
    "D= 0.10\n",
    "\n",
    "#Difference between proportions of populations\n",
    "\n",
    "p1= p1_hat*(1-p1_hat)/n1\n",
    "p2= p2_hat*(1-p2_hat)/n2\n",
    "den= p1+p2\n",
    "se= math.sqrt(den)\n",
    "\n",
    "p_h = (p1_hat-p2_hat)\n",
    "\n",
    "\n",
    "num = p_h-D\n",
    "\n",
    "z= num/se\n",
    "\n",
    "#At 5% level of significance,from the z-table\n",
    "cv= 1.64\n",
    "\n",
    "if z<=cv:\n",
    "    print(\"Accept Ho. There is differnece in proportion of buyers from two given population when sweepstakes were 10% higher than the other.\")\n",
    "else:\n",
    "    print(\"Reject Ho. There is no differnece in proportion of buyers from two given population when sweepstakes were 10% higher than the other.\")"
   ]
  },
  {
   "cell_type": "markdown",
   "metadata": {},
   "source": [
    "Problem Statement 17:\n",
    "\n",
    "A die is thrown 132 times with the following results: Number turned up: 1, 2, 3, 4, 5, 6\n",
    "Frequency: 16, 20, 25, 14, 29, 28\n",
    "Is the die unbiased? Consider the degrees of freedom as 𝑝 − ."
   ]
  },
  {
   "cell_type": "code",
   "execution_count": 159,
   "metadata": {},
   "outputs": [],
   "source": [
    "#H0: The die is unbiased\n",
    "#H1: The die is not unbiased\n",
    "\n",
    "#Given observed frequencies\n",
    "\n",
    "obs= [16,20,25,14,29,28]\n",
    "obs_mean= statistics.mean(obs)\n",
    "\n",
    "exp= [22,22,22,22,22,22]\n"
   ]
  },
  {
   "cell_type": "code",
   "execution_count": 165,
   "metadata": {},
   "outputs": [],
   "source": [
    "diff=[]\n",
    "\n",
    "zi= zip(obs,exp)\n",
    "for obs_i, exp_i in zi:\n",
    "    diff.append(obs_i-exp_i)\n",
    "chi=[freq**2 for freq in diff]    "
   ]
  },
  {
   "cell_type": "code",
   "execution_count": 176,
   "metadata": {},
   "outputs": [],
   "source": [
    "#Summation of differneces\n",
    "sum_chi= sum(chi)\n",
    "#Calculating the final chi_square test value\n",
    "\n",
    "chi_square= sum_chi/obs_mean\n",
    "\n",
    "from scipy import stats\n",
    "#At 5% level of significancen from table\n",
    "critical_val = 11.070\n"
   ]
  },
  {
   "cell_type": "code",
   "execution_count": 177,
   "metadata": {},
   "outputs": [
    {
     "name": "stdout",
     "output_type": "stream",
     "text": [
      "The test value 9.0 lies in the acceptance region and < 11.07\n"
     ]
    }
   ],
   "source": [
    "print(\"The test value {} lies in the acceptance region and < {}\".format(chi_square,critical_val))"
   ]
  },
  {
   "cell_type": "markdown",
   "metadata": {},
   "source": [
    "Problem Statement 18:\n",
    "\n",
    "In a certain town, there are about one million eligible voters. A simple random\n",
    "sample of 10,000 eligible voters was chosen to study the relationship between\n",
    "gender and participation in the last election. The results are summarized in the\n",
    "following 2X2 (read two by two) contingency table:"
   ]
  },
  {
   "cell_type": "code",
   "execution_count": 196,
   "metadata": {},
   "outputs": [],
   "source": [
    "#H0: Gender and voting are independent\n",
    "#H1: Gender and voting are dependent"
   ]
  },
  {
   "cell_type": "code",
   "execution_count": 179,
   "metadata": {},
   "outputs": [],
   "source": [
    "voted= [2792,3591]\n",
    "not_voted= [1486, 2131]\n",
    "voted_sum= sum(voted)\n",
    "not_voted_sum= sum(not_voted)\n",
    "voted.append(voted_sum)\n",
    "not_voted.append(not_voted_sum)"
   ]
  },
  {
   "cell_type": "code",
   "execution_count": 181,
   "metadata": {},
   "outputs": [],
   "source": [
    "grand_total= [2792+1486, 3591+2131, voted_sum+not_voted_sum]"
   ]
  },
  {
   "cell_type": "code",
   "execution_count": 183,
   "metadata": {},
   "outputs": [],
   "source": [
    "import pandas as pd\n",
    "\n",
    "ls= [voted,not_voted,grand_total]\n",
    "\n",
    "Obs= pd.DataFrame(ls, columns=['Men','Women','Total'],index=['Voted','Not Voted','combined'])"
   ]
  },
  {
   "cell_type": "code",
   "execution_count": 184,
   "metadata": {},
   "outputs": [
    {
     "data": {
      "text/html": [
       "<div>\n",
       "<style scoped>\n",
       "    .dataframe tbody tr th:only-of-type {\n",
       "        vertical-align: middle;\n",
       "    }\n",
       "\n",
       "    .dataframe tbody tr th {\n",
       "        vertical-align: top;\n",
       "    }\n",
       "\n",
       "    .dataframe thead th {\n",
       "        text-align: right;\n",
       "    }\n",
       "</style>\n",
       "<table border=\"1\" class=\"dataframe\">\n",
       "  <thead>\n",
       "    <tr style=\"text-align: right;\">\n",
       "      <th></th>\n",
       "      <th>Men</th>\n",
       "      <th>Women</th>\n",
       "      <th>Total</th>\n",
       "    </tr>\n",
       "  </thead>\n",
       "  <tbody>\n",
       "    <tr>\n",
       "      <td>Voted</td>\n",
       "      <td>2792</td>\n",
       "      <td>3591</td>\n",
       "      <td>6383</td>\n",
       "    </tr>\n",
       "    <tr>\n",
       "      <td>Not Voted</td>\n",
       "      <td>1486</td>\n",
       "      <td>2131</td>\n",
       "      <td>3617</td>\n",
       "    </tr>\n",
       "    <tr>\n",
       "      <td>combined</td>\n",
       "      <td>4278</td>\n",
       "      <td>5722</td>\n",
       "      <td>10000</td>\n",
       "    </tr>\n",
       "  </tbody>\n",
       "</table>\n",
       "</div>"
      ],
      "text/plain": [
       "            Men  Women  Total\n",
       "Voted      2792   3591   6383\n",
       "Not Voted  1486   2131   3617\n",
       "combined   4278   5722  10000"
      ]
     },
     "execution_count": 184,
     "metadata": {},
     "output_type": "execute_result"
    }
   ],
   "source": [
    "Obs"
   ]
  },
  {
   "cell_type": "code",
   "execution_count": 188,
   "metadata": {},
   "outputs": [],
   "source": [
    "Obs1= Obs.iloc[0:2,0:2]"
   ]
  },
  {
   "cell_type": "code",
   "execution_count": 189,
   "metadata": {},
   "outputs": [
    {
     "data": {
      "text/html": [
       "<div>\n",
       "<style scoped>\n",
       "    .dataframe tbody tr th:only-of-type {\n",
       "        vertical-align: middle;\n",
       "    }\n",
       "\n",
       "    .dataframe tbody tr th {\n",
       "        vertical-align: top;\n",
       "    }\n",
       "\n",
       "    .dataframe thead th {\n",
       "        text-align: right;\n",
       "    }\n",
       "</style>\n",
       "<table border=\"1\" class=\"dataframe\">\n",
       "  <thead>\n",
       "    <tr style=\"text-align: right;\">\n",
       "      <th></th>\n",
       "      <th>Men</th>\n",
       "      <th>Women</th>\n",
       "    </tr>\n",
       "  </thead>\n",
       "  <tbody>\n",
       "    <tr>\n",
       "      <td>Voted</td>\n",
       "      <td>2792</td>\n",
       "      <td>3591</td>\n",
       "    </tr>\n",
       "    <tr>\n",
       "      <td>Not Voted</td>\n",
       "      <td>1486</td>\n",
       "      <td>2131</td>\n",
       "    </tr>\n",
       "  </tbody>\n",
       "</table>\n",
       "</div>"
      ],
      "text/plain": [
       "            Men  Women\n",
       "Voted      2792   3591\n",
       "Not Voted  1486   2131"
      ]
     },
     "execution_count": 189,
     "metadata": {},
     "output_type": "execute_result"
    }
   ],
   "source": [
    "Obs1 #Observed frequency"
   ]
  },
  {
   "cell_type": "code",
   "execution_count": 185,
   "metadata": {},
   "outputs": [],
   "source": [
    "import numpy as np\n",
    "\n",
    "Exp= np.outer(Obs['Total'][0:2], Obs.iloc[2:3, 0:2])/(voted_sum+not_voted_sum)"
   ]
  },
  {
   "cell_type": "code",
   "execution_count": 190,
   "metadata": {},
   "outputs": [],
   "source": [
    "Ex= pd.DataFrame(Exp,columns=['Men','Women'],index=['Voted','Not Voted'])"
   ]
  },
  {
   "cell_type": "code",
   "execution_count": 191,
   "metadata": {},
   "outputs": [
    {
     "data": {
      "text/html": [
       "<div>\n",
       "<style scoped>\n",
       "    .dataframe tbody tr th:only-of-type {\n",
       "        vertical-align: middle;\n",
       "    }\n",
       "\n",
       "    .dataframe tbody tr th {\n",
       "        vertical-align: top;\n",
       "    }\n",
       "\n",
       "    .dataframe thead th {\n",
       "        text-align: right;\n",
       "    }\n",
       "</style>\n",
       "<table border=\"1\" class=\"dataframe\">\n",
       "  <thead>\n",
       "    <tr style=\"text-align: right;\">\n",
       "      <th></th>\n",
       "      <th>Men</th>\n",
       "      <th>Women</th>\n",
       "    </tr>\n",
       "  </thead>\n",
       "  <tbody>\n",
       "    <tr>\n",
       "      <td>Voted</td>\n",
       "      <td>2730.6474</td>\n",
       "      <td>3652.3526</td>\n",
       "    </tr>\n",
       "    <tr>\n",
       "      <td>Not Voted</td>\n",
       "      <td>1547.3526</td>\n",
       "      <td>2069.6474</td>\n",
       "    </tr>\n",
       "  </tbody>\n",
       "</table>\n",
       "</div>"
      ],
      "text/plain": [
       "                 Men      Women\n",
       "Voted      2730.6474  3652.3526\n",
       "Not Voted  1547.3526  2069.6474"
      ]
     },
     "execution_count": 191,
     "metadata": {},
     "output_type": "execute_result"
    }
   ],
   "source": [
    "Ex"
   ]
  },
  {
   "cell_type": "code",
   "execution_count": 192,
   "metadata": {},
   "outputs": [],
   "source": [
    "#Calculating the chi-square test value\n",
    "chi_sq_test= (((Obs1-Ex)**2)/Ex).sum()"
   ]
  },
  {
   "cell_type": "code",
   "execution_count": 194,
   "metadata": {},
   "outputs": [],
   "source": [
    "final_chi_sq= sum(chi_sq_test)"
   ]
  },
  {
   "cell_type": "code",
   "execution_count": 195,
   "metadata": {},
   "outputs": [
    {
     "data": {
      "text/plain": [
       "6.660455899328067"
      ]
     },
     "execution_count": 195,
     "metadata": {},
     "output_type": "execute_result"
    }
   ],
   "source": [
    "final_chi_sq"
   ]
  },
  {
   "cell_type": "code",
   "execution_count": 197,
   "metadata": {},
   "outputs": [],
   "source": [
    "cval= stats.chi2.ppf(q=1-0.05, df=1)"
   ]
  },
  {
   "cell_type": "code",
   "execution_count": 198,
   "metadata": {},
   "outputs": [
    {
     "data": {
      "text/plain": [
       "3.841458820694124"
      ]
     },
     "execution_count": 198,
     "metadata": {},
     "output_type": "execute_result"
    }
   ],
   "source": [
    "cval"
   ]
  },
  {
   "cell_type": "code",
   "execution_count": 199,
   "metadata": {},
   "outputs": [
    {
     "name": "stdout",
     "output_type": "stream",
     "text": [
      "The chi-square test value 6.660455899328067 is greater than the critical value 3.841458820694124. Hence we can reject the null hypothesis. Gender and Voting are dependent on each other\n"
     ]
    }
   ],
   "source": [
    "print(\"The chi-square test value {} is greater than the critical value {}. Hence we can reject the null hypothesis. Gender and Voting are dependent on each other\".format(final_chi_sq, cval))"
   ]
  },
  {
   "cell_type": "markdown",
   "metadata": {},
   "source": [
    "Problem Statement 19:\n",
    "\n",
    "A sample of 100 voters are asked which of four candidates they would vote for in an\n",
    "election. The number supporting each candidate is given below:\n",
    "Do the data suggest that all candidates are equally popular? \n",
    "\n",
    "[Chi-Square = 14.96, with 3 df, 𝑝 0.05]"
   ]
  },
  {
   "cell_type": "code",
   "execution_count": 201,
   "metadata": {},
   "outputs": [
    {
     "name": "stdout",
     "output_type": "stream",
     "text": [
      "The chi-square test value 14.96 is greater than critical value 7.82. \n",
      "Hence we can reject the null hypothesis that all candidates are popular.\n"
     ]
    }
   ],
   "source": [
    "#H0: All candidates are equally popular (or) popularity and candidates in election are independent of each other\n",
    "#H1: All candidates are not equally popular (or) popularity and candidates in election are dependent variables\n",
    "\n",
    "chi_val= 14.96\n",
    "df=3\n",
    "p=0.05\n",
    "\n",
    "#At 5% level of significance from chi-square table\n",
    "cval= 7.82\n",
    "\n",
    "print(\"The chi-square test value {} is greater than critical value {}. \\nHence we can reject the null hypothesis that all candidates are popular.\".format(chi_val,cval))"
   ]
  },
  {
   "cell_type": "markdown",
   "metadata": {},
   "source": [
    "Problem Statement 20:\n",
    "\n",
    "Children of three ages are asked to indicate their preference for three photographs of\n",
    "adults. Do the data suggest that there is a significant relationship between age and\n",
    "photograph preference? What is wrong with this study? \n",
    "\n",
    "[Chi-Square = 29.6, with 4 df: 𝑝 < 0.05]."
   ]
  },
  {
   "cell_type": "code",
   "execution_count": 202,
   "metadata": {},
   "outputs": [
    {
     "name": "stdout",
     "output_type": "stream",
     "text": [
      "The chi-square test value 29.6 is greater than critical value 9.488. \n",
      "Hence we can reject the null hypothesis that age and photo preference are independent.\n"
     ]
    }
   ],
   "source": [
    "#H0: Age and photo preference are independent\n",
    "#H1: Age and photo preference are dependent\n",
    "\n",
    "chi_val= 29.6\n",
    "df=4\n",
    "p=0.05\n",
    "\n",
    "#At 5% level of significance from chi-square table\n",
    "cval= 9.488\n",
    "\n",
    "print(\"The chi-square test value {} is greater than critical value {}. \\nHence we can reject the null hypothesis that age and photo preference are independent.\".format(chi_val,cval))"
   ]
  },
  {
   "cell_type": "markdown",
   "metadata": {},
   "source": [
    "Problem Statement 21:\n",
    "\n",
    "A study of conformity using the Asch paradigm involved two conditions: one where\n",
    "one confederate supported the true judgement and another where no confederate\n",
    "gave the correct response.\n",
    "\n",
    "Is there a significant difference between the \"support\" and \"no support\" conditions in the\n",
    "frequency with which individuals are likely to conform?\n",
    "\n",
    "[Chi-Square = 19.87, with 1 df:𝑝 < 0.05]"
   ]
  },
  {
   "cell_type": "code",
   "execution_count": 203,
   "metadata": {},
   "outputs": [
    {
     "name": "stdout",
     "output_type": "stream",
     "text": [
      "The chi-square test value 19.87 is greater than critical value 3.841. \n",
      "Hence we can reject the null hypothesis that there is no difference between support and no support.\n"
     ]
    }
   ],
   "source": [
    "#H0: There is no difference between support and no support\n",
    "#H1: There is significant difference between support and no support\n",
    "\n",
    "chi_val= 19.87\n",
    "df=1\n",
    "p=0.05\n",
    "\n",
    "#At 5% level of significance from chi-square table\n",
    "cval= 3.841\n",
    "\n",
    "print(\"The chi-square test value {} is greater than critical value {}. \\nHence we can reject the null hypothesis that there is no difference between support and no support.\".format(chi_val,cval))"
   ]
  },
  {
   "cell_type": "markdown",
   "metadata": {},
   "source": [
    "Problem Statement 22:\n",
    "\n",
    "We want to test whether short people differ with respect to their leadership qualities\n",
    "(Genghis Khan, Adolf Hitler and Napoleon were all stature-deprived, and how many midget\n",
    "MP's are there?) The following table shows the frequencies with which 43 short people and\n",
    "52 tall people were categorized as \"leaders\", \"followers\" or as \"unclassifiable\". Is there a\n",
    "relationship between height and leadership qualities?\n",
    "\n",
    "[Chi-Square = 10.71, with 2 df: 𝑝 < 0.01]"
   ]
  },
  {
   "cell_type": "code",
   "execution_count": 204,
   "metadata": {},
   "outputs": [
    {
     "name": "stdout",
     "output_type": "stream",
     "text": [
      "The chi-square test value 10.71 is greater than critical value 9.21. \n",
      "Hence we can reject the null hypothesis that height and leadership qualities are independent.\n"
     ]
    }
   ],
   "source": [
    "#H0: Height and leadership qualities are independent\n",
    "#H1: Height and leadership qualities are dependent\n",
    "\n",
    "chi_val= 10.71\n",
    "df=2\n",
    "p=0.01\n",
    "\n",
    "#At 1% level of significance from chi-square table\n",
    "cval= 9.210\n",
    "\n",
    "print(\"The chi-square test value {} is greater than critical value {}. \\nHence we can reject the null hypothesis that height and leadership qualities are independent.\".format(chi_val,cval))"
   ]
  },
  {
   "cell_type": "markdown",
   "metadata": {},
   "source": [
    "Problem Statement 23:\n",
    "\n",
    "Each respondent in the Current Population Survey of March 1993 was classified as\n",
    "employed, unemployed, or outside the labor force. The results for men in California age 35-\n",
    "44 can be cross-tabulated by marital status, as follows:\n",
    "\n",
    "Men of different marital status seem to have different distributions of labor force status. Or is\n",
    "this just chance variation? (you may assume the table results from a simple random\n",
    "sample.)"
   ]
  },
  {
   "cell_type": "code",
   "execution_count": 206,
   "metadata": {},
   "outputs": [],
   "source": [
    "#H0: Marital status and Job status are independent\n",
    "#H1: Marital status and Job status are dependent\n",
    "\n",
    "employed= [679,103,114]\n",
    "Unemployed= [63, 10,20]\n",
    "Not= [42,18,25]\n",
    "employed.append(sum(employed))\n",
    "Unemployed.append(sum(Unemployed))\n",
    "Not.append(sum(Not))\n",
    "\n",
    "Combined= [679+63+42,103+10+18,114+20+25,employed[3]+Unemployed[3]+Not[3]]"
   ]
  },
  {
   "cell_type": "code",
   "execution_count": 208,
   "metadata": {},
   "outputs": [],
   "source": [
    "ls1= [employed,Unemployed,Not,Combined]\n",
    "\n",
    "T1= pd.DataFrame(ls1, columns=['Married','Widowed/divorced/separated','Never married','Total'],index=['Employed','Unemployed','Not in labor force','combined'])"
   ]
  },
  {
   "cell_type": "code",
   "execution_count": 209,
   "metadata": {},
   "outputs": [
    {
     "data": {
      "text/html": [
       "<div>\n",
       "<style scoped>\n",
       "    .dataframe tbody tr th:only-of-type {\n",
       "        vertical-align: middle;\n",
       "    }\n",
       "\n",
       "    .dataframe tbody tr th {\n",
       "        vertical-align: top;\n",
       "    }\n",
       "\n",
       "    .dataframe thead th {\n",
       "        text-align: right;\n",
       "    }\n",
       "</style>\n",
       "<table border=\"1\" class=\"dataframe\">\n",
       "  <thead>\n",
       "    <tr style=\"text-align: right;\">\n",
       "      <th></th>\n",
       "      <th>Married</th>\n",
       "      <th>Widowed/divorced/separated</th>\n",
       "      <th>Never married</th>\n",
       "      <th>Total</th>\n",
       "    </tr>\n",
       "  </thead>\n",
       "  <tbody>\n",
       "    <tr>\n",
       "      <td>Employed</td>\n",
       "      <td>679</td>\n",
       "      <td>103</td>\n",
       "      <td>114</td>\n",
       "      <td>896</td>\n",
       "    </tr>\n",
       "    <tr>\n",
       "      <td>Unemployed</td>\n",
       "      <td>63</td>\n",
       "      <td>10</td>\n",
       "      <td>20</td>\n",
       "      <td>93</td>\n",
       "    </tr>\n",
       "    <tr>\n",
       "      <td>Not in labor force</td>\n",
       "      <td>42</td>\n",
       "      <td>18</td>\n",
       "      <td>25</td>\n",
       "      <td>85</td>\n",
       "    </tr>\n",
       "    <tr>\n",
       "      <td>combined</td>\n",
       "      <td>784</td>\n",
       "      <td>131</td>\n",
       "      <td>159</td>\n",
       "      <td>1074</td>\n",
       "    </tr>\n",
       "  </tbody>\n",
       "</table>\n",
       "</div>"
      ],
      "text/plain": [
       "                    Married  Widowed/divorced/separated  Never married  Total\n",
       "Employed                679                         103            114    896\n",
       "Unemployed               63                          10             20     93\n",
       "Not in labor force       42                          18             25     85\n",
       "combined                784                         131            159   1074"
      ]
     },
     "execution_count": 209,
     "metadata": {},
     "output_type": "execute_result"
    }
   ],
   "source": [
    "T1"
   ]
  },
  {
   "cell_type": "code",
   "execution_count": 210,
   "metadata": {},
   "outputs": [],
   "source": [
    "Obs= T1.iloc[0:3,0:3]"
   ]
  },
  {
   "cell_type": "code",
   "execution_count": 211,
   "metadata": {},
   "outputs": [
    {
     "data": {
      "text/html": [
       "<div>\n",
       "<style scoped>\n",
       "    .dataframe tbody tr th:only-of-type {\n",
       "        vertical-align: middle;\n",
       "    }\n",
       "\n",
       "    .dataframe tbody tr th {\n",
       "        vertical-align: top;\n",
       "    }\n",
       "\n",
       "    .dataframe thead th {\n",
       "        text-align: right;\n",
       "    }\n",
       "</style>\n",
       "<table border=\"1\" class=\"dataframe\">\n",
       "  <thead>\n",
       "    <tr style=\"text-align: right;\">\n",
       "      <th></th>\n",
       "      <th>Married</th>\n",
       "      <th>Widowed/divorced/separated</th>\n",
       "      <th>Never married</th>\n",
       "    </tr>\n",
       "  </thead>\n",
       "  <tbody>\n",
       "    <tr>\n",
       "      <td>Employed</td>\n",
       "      <td>679</td>\n",
       "      <td>103</td>\n",
       "      <td>114</td>\n",
       "    </tr>\n",
       "    <tr>\n",
       "      <td>Unemployed</td>\n",
       "      <td>63</td>\n",
       "      <td>10</td>\n",
       "      <td>20</td>\n",
       "    </tr>\n",
       "    <tr>\n",
       "      <td>Not in labor force</td>\n",
       "      <td>42</td>\n",
       "      <td>18</td>\n",
       "      <td>25</td>\n",
       "    </tr>\n",
       "  </tbody>\n",
       "</table>\n",
       "</div>"
      ],
      "text/plain": [
       "                    Married  Widowed/divorced/separated  Never married\n",
       "Employed                679                         103            114\n",
       "Unemployed               63                          10             20\n",
       "Not in labor force       42                          18             25"
      ]
     },
     "execution_count": 211,
     "metadata": {},
     "output_type": "execute_result"
    }
   ],
   "source": [
    "Obs #Observed frequency"
   ]
  },
  {
   "cell_type": "code",
   "execution_count": 212,
   "metadata": {},
   "outputs": [],
   "source": [
    "T2= np.outer(T1['Total'][0:3],T1.iloc[3:4,0:3])/1074"
   ]
  },
  {
   "cell_type": "code",
   "execution_count": 216,
   "metadata": {},
   "outputs": [],
   "source": [
    "Exp=pd.DataFrame(T2, columns=['Married','Widowed/divorced/separated','Never married'],index=['Employed','Unemployed','Not in labor force'])"
   ]
  },
  {
   "cell_type": "code",
   "execution_count": 217,
   "metadata": {},
   "outputs": [
    {
     "data": {
      "text/html": [
       "<div>\n",
       "<style scoped>\n",
       "    .dataframe tbody tr th:only-of-type {\n",
       "        vertical-align: middle;\n",
       "    }\n",
       "\n",
       "    .dataframe tbody tr th {\n",
       "        vertical-align: top;\n",
       "    }\n",
       "\n",
       "    .dataframe thead th {\n",
       "        text-align: right;\n",
       "    }\n",
       "</style>\n",
       "<table border=\"1\" class=\"dataframe\">\n",
       "  <thead>\n",
       "    <tr style=\"text-align: right;\">\n",
       "      <th></th>\n",
       "      <th>Married</th>\n",
       "      <th>Widowed/divorced/separated</th>\n",
       "      <th>Never married</th>\n",
       "    </tr>\n",
       "  </thead>\n",
       "  <tbody>\n",
       "    <tr>\n",
       "      <td>Employed</td>\n",
       "      <td>654.063315</td>\n",
       "      <td>109.288641</td>\n",
       "      <td>132.648045</td>\n",
       "    </tr>\n",
       "    <tr>\n",
       "      <td>Unemployed</td>\n",
       "      <td>67.888268</td>\n",
       "      <td>11.343575</td>\n",
       "      <td>13.768156</td>\n",
       "    </tr>\n",
       "    <tr>\n",
       "      <td>Not in labor force</td>\n",
       "      <td>62.048417</td>\n",
       "      <td>10.367784</td>\n",
       "      <td>12.583799</td>\n",
       "    </tr>\n",
       "  </tbody>\n",
       "</table>\n",
       "</div>"
      ],
      "text/plain": [
       "                       Married  Widowed/divorced/separated  Never married\n",
       "Employed            654.063315                  109.288641     132.648045\n",
       "Unemployed           67.888268                   11.343575      13.768156\n",
       "Not in labor force   62.048417                   10.367784      12.583799"
      ]
     },
     "execution_count": 217,
     "metadata": {},
     "output_type": "execute_result"
    }
   ],
   "source": [
    "Exp #Expected frequency"
   ]
  },
  {
   "cell_type": "code",
   "execution_count": 218,
   "metadata": {},
   "outputs": [],
   "source": [
    "chi_val= ((Obs-Exp)**2/Exp).sum()"
   ]
  },
  {
   "cell_type": "code",
   "execution_count": 220,
   "metadata": {},
   "outputs": [],
   "source": [
    "chi_sq= sum(chi_val)"
   ]
  },
  {
   "cell_type": "code",
   "execution_count": 221,
   "metadata": {},
   "outputs": [
    {
     "data": {
      "text/plain": [
       "31.613103194077983"
      ]
     },
     "execution_count": 221,
     "metadata": {},
     "output_type": "execute_result"
    }
   ],
   "source": [
    "chi_sq"
   ]
  },
  {
   "cell_type": "code",
   "execution_count": 222,
   "metadata": {},
   "outputs": [
    {
     "name": "stdout",
     "output_type": "stream",
     "text": [
      "The chi_square value 31.613103194077983 is greater than critical value 9.488. \n",
      "Hence null hypothesis is rejected and we can conclude that marital status and job status are dependent on each other\n"
     ]
    }
   ],
   "source": [
    "#At 5% level of significance and df=4\n",
    "critic_val= 9.488\n",
    "\n",
    "print(\"The chi_square value {} is greater than critical value {}. \\nHence null hypothesis is rejected and we can conclude that marital status and job status are dependent on each other\".format(chi_sq,critic_val))"
   ]
  },
  {
   "cell_type": "code",
   "execution_count": null,
   "metadata": {},
   "outputs": [],
   "source": []
  },
  {
   "cell_type": "code",
   "execution_count": null,
   "metadata": {},
   "outputs": [],
   "source": []
  },
  {
   "cell_type": "code",
   "execution_count": null,
   "metadata": {},
   "outputs": [],
   "source": []
  }
 ],
 "metadata": {
  "kernelspec": {
   "display_name": "Python 3",
   "language": "python",
   "name": "python3"
  },
  "language_info": {
   "codemirror_mode": {
    "name": "ipython",
    "version": 3
   },
   "file_extension": ".py",
   "mimetype": "text/x-python",
   "name": "python",
   "nbconvert_exporter": "python",
   "pygments_lexer": "ipython3",
   "version": "3.7.4"
  }
 },
 "nbformat": 4,
 "nbformat_minor": 2
}
