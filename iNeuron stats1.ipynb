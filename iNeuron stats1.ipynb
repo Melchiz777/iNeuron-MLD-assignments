{
 "cells": [
  {
   "cell_type": "markdown",
   "metadata": {},
   "source": [
    "Calculate the mean, median, mode and standard deviation for the problem\n",
    "statements 1& 2.\n",
    "Problem Statement 1:\n",
    "The marks awarded for an assignment set for a Year 8 class of 20 students were as\n",
    "follows:\n",
    "6 7 5 7 7 8 7 6 9 7 4 10 6 8 8 9 5 6 4 8"
   ]
  },
  {
   "cell_type": "code",
   "execution_count": 1,
   "metadata": {},
   "outputs": [],
   "source": [
    "import statistics\n",
    "marks= [6,7,5,7,7,8,7,6,9,7,4,10,6,8,8,9,5,6,4,8]"
   ]
  },
  {
   "cell_type": "code",
   "execution_count": 2,
   "metadata": {},
   "outputs": [
    {
     "name": "stdout",
     "output_type": "stream",
     "text": [
      "The statisitics of the list provided are as follows:\n",
      " mean= 6.85 \n",
      " median= 7.0 \n",
      " mode= 7 \n",
      " standard_deviation= 1.6311119875071343\n"
     ]
    }
   ],
   "source": [
    "mean= statistics.mean(marks)\n",
    "median = statistics.median(marks)\n",
    "mode= statistics.mode(marks)\n",
    "standard_deviation= statistics.stdev(marks)\n",
    "\n",
    "print(\"The statisitics of the list provided are as follows:\\n mean= {} \\n median= {} \\n mode= {} \\n standard_deviation= {}\".format(mean,median,mode,standard_deviation))"
   ]
  },
  {
   "cell_type": "markdown",
   "metadata": {},
   "source": [
    "The number of calls from motorists per day for roadside service was recorded for a\n",
    "particular month:\n",
    "28, 122, 217, 130, 120, 86, 80, 90, 140, 120, 70, 40, 145, 113, 90, 68, 174, 194, 170,\n",
    "100, 75, 104, 97, 75,\n",
    "123, 100, 75, 104, 97, 75, 123, 100, 89, 120, 109"
   ]
  },
  {
   "cell_type": "code",
   "execution_count": 3,
   "metadata": {},
   "outputs": [
    {
     "name": "stdout",
     "output_type": "stream",
     "text": [
      "The statisitics of the list provided are as follows:\n",
      " mean 107.51428571428572 \n",
      " median 100 \n",
      " mode 75 \n",
      " standard_deviation 39.33892805484412\n"
     ]
    }
   ],
   "source": [
    "calls= [28, 122, 217, 130, 120, 86, 80, 90, 140, 120, 70, 40, 145, 113, 90, 68, 174, 194, 170,\n",
    "100, 75, 104, 97, 75,\n",
    "123, 100, 75, 104, 97, 75, 123, 100, 89, 120, 109]\n",
    "\n",
    "mean= statistics.mean(calls)\n",
    "median= statistics.median(calls)\n",
    "mode= statistics.mode(calls)\n",
    "standard_deviation= statistics.stdev(calls)\n",
    "\n",
    "print(\"The statisitics of the list provided are as follows:\\n mean {} \\n median {} \\n mode {} \\n standard_deviation {}\".format(mean,median,mode,standard_deviation))"
   ]
  },
  {
   "cell_type": "markdown",
   "metadata": {},
   "source": [
    "Problem Statement 3:\n",
    "\n",
    "The number of times I go to the gym in weekdays, are given below along with its\n",
    "associated probability:\n",
    "\n",
    "x = 0, 1, 2, 3, 4, 5\n",
    "\n",
    "f(x) = 0.09, 0.15, 0.40, 0.25, 0.10, 0.01\n",
    "\n",
    "Calculate the mean no. of workouts in a week. Also evaluate the variance involved in\n",
    "it.\n"
   ]
  },
  {
   "cell_type": "code",
   "execution_count": 4,
   "metadata": {},
   "outputs": [],
   "source": [
    "x= [0,1,2,3,4,5]\n",
    "\n",
    "fx= [0.09, 0.15, 0.40, 0.25, 0.10, 0.01]\n",
    "\n",
    "#The probabilities are already in decimal formats. To find mean of discrete random variables from their probability\n",
    "#distributions we have multiply the values of Rx= x with f(x)\n",
    "\n",
    "mean_discrete_var= [x[i]*fx[i] for i in range(len(x))]"
   ]
  },
  {
   "cell_type": "code",
   "execution_count": 5,
   "metadata": {},
   "outputs": [
    {
     "name": "stdout",
     "output_type": "stream",
     "text": [
      "The mean of probability distribution of no of times working at gym is 2.15\n"
     ]
    }
   ],
   "source": [
    "sum_mean_discrete_var= sum(mean_discrete_var)\n",
    "\n",
    "print(\"The mean of probability distribution of no of times working at gym is {}\".format(sum_mean_discrete_var))"
   ]
  },
  {
   "cell_type": "markdown",
   "metadata": {},
   "source": [
    "Problem Statement 4:\n",
    "\n",
    "Let the continuous random variable D denote the diameter of the hole drilled in an\n",
    "aluminum sheet. The target diameter to be achieved is 12.5mm. \n",
    "\n",
    "Random disturbances in the process often result in inaccuracy.\n",
    "\n",
    "Historical data shows that the distribution of D can be modelled by the PDF (𝑑) =\n",
    "20𝑒−20(𝑑−12.5), 𝑑 ≥ 12.5. \n",
    "If a part with diameter > 12.6 mm needs to be scrapped,\n",
    "what is the proportion of those parts? What is the CDF when the diameter is of 11\n",
    "mm? What is your conclusion regarding the proportion of scraps?"
   ]
  },
  {
   "cell_type": "code",
   "execution_count": 6,
   "metadata": {},
   "outputs": [
    {
     "data": {
      "text/plain": [
       "'y= -20e**-20(d-12.5)'"
      ]
     },
     "execution_count": 6,
     "metadata": {},
     "output_type": "execute_result"
    }
   ],
   "source": [
    "import math\n",
    "\n",
    "\"\"\"The pdf of D is given as follows\"\"\"\n",
    "\n",
    "\"y= -20e**-20(d-12.5)\""
   ]
  },
  {
   "cell_type": "code",
   "execution_count": 7,
   "metadata": {},
   "outputs": [],
   "source": [
    "from scipy.integrate import quad"
   ]
  },
  {
   "cell_type": "code",
   "execution_count": 8,
   "metadata": {},
   "outputs": [],
   "source": [
    "def integra(d):\n",
    "    return -math.exp(-20*(d-12.5))"
   ]
  },
  {
   "cell_type": "code",
   "execution_count": 9,
   "metadata": {},
   "outputs": [],
   "source": [
    "import numpy as np\n",
    "ans, err= quad(integra, np.inf, 12.6 )"
   ]
  },
  {
   "cell_type": "code",
   "execution_count": 10,
   "metadata": {},
   "outputs": [
    {
     "data": {
      "text/plain": [
       "'The proportions greater than 12.6mm in diameter constitutes for nearly 0.13533528323661398 times to be scrapped'"
      ]
     },
     "execution_count": 10,
     "metadata": {},
     "output_type": "execute_result"
    }
   ],
   "source": [
    "('The proportions greater than 12.6mm in diameter constitutes for nearly {} times to be scrapped'.format(ans*20))"
   ]
  },
  {
   "cell_type": "code",
   "execution_count": 11,
   "metadata": {},
   "outputs": [],
   "source": [
    "#The acceptable region between 12.5mm and 12.6mm is given by\n",
    "\"\"\"1- P(d>12.6)\"\"\"\n",
    "\n",
    "'P(12.5<d<12.6) = 1- P(d>12.6)'\n",
    "\n",
    "acceptable_portion= 1- ans*20"
   ]
  },
  {
   "cell_type": "code",
   "execution_count": 12,
   "metadata": {},
   "outputs": [
    {
     "name": "stdout",
     "output_type": "stream",
     "text": [
      "The acceptable portion between 12.5mm and 12.6mm dia constitutes about 0.8646647167633861. The CDF when diameter is of 11 mm is zero as it is less than the range specified by the PDF\n"
     ]
    }
   ],
   "source": [
    "print(\"The acceptable portion between 12.5mm and 12.6mm dia constitutes about {}. The CDF when diameter is of 11 mm is zero as it is less than the range specified by the PDF\".format(acceptable_portion))"
   ]
  },
  {
   "cell_type": "markdown",
   "metadata": {},
   "source": [
    "Problem Statement 5:\n",
    "\n",
    "A company manufactures LED bulbs with a faulty rate of 30%. If I randomly select 6\n",
    "chosen LEDs, what is the probability of having 2 faulty LEDs in my sample?\n",
    "Calculate the average value of this process. Also evaluate the standard deviation\n",
    "associated with it.\n"
   ]
  },
  {
   "cell_type": "code",
   "execution_count": 13,
   "metadata": {},
   "outputs": [
    {
     "data": {
      "text/plain": [
       "'P(X=2)= 6!/(6-2)! 2! *(0.33)^2 *(1-0.33)^6-2 '"
      ]
     },
     "execution_count": 13,
     "metadata": {},
     "output_type": "execute_result"
    }
   ],
   "source": [
    "#The details of the problem\n",
    "n= 6 #no of LEDS to be drawn from the lot\n",
    "p= 0.33 #Proportion of defective LED bulbs\n",
    "q= 1-p #Proportion of non-defective LED bulbs\n",
    "k=2 #The purported two LED bulbs to be defective\n",
    "\n",
    "#To calculate the binomial probability of 2 LED bulbs out of sample of 6 to be defective\n",
    "\n",
    "\"\"\"P(X=2)= 6!/(6-2)! 2! *(0.33)^2 *(1-0.33)^6-2 \"\"\""
   ]
  },
  {
   "cell_type": "code",
   "execution_count": 14,
   "metadata": {},
   "outputs": [],
   "source": [
    "from scipy.stats import binom\n",
    "from scipy.stats import poisson"
   ]
  },
  {
   "cell_type": "code",
   "execution_count": 15,
   "metadata": {},
   "outputs": [
    {
     "name": "stdout",
     "output_type": "stream",
     "text": [
      "0.32916856153499996\n"
     ]
    }
   ],
   "source": [
    "binomial = binom.pmf(k,n,p)\n",
    "print(binomial)\n",
    "mean , var= binom.stats(n,p)"
   ]
  },
  {
   "cell_type": "code",
   "execution_count": 16,
   "metadata": {},
   "outputs": [
    {
     "name": "stdout",
     "output_type": "stream",
     "text": [
      "The probability of 2 LED bulbs to be defective out of 6 drawn bulbs is 0.32916856153499996\n",
      "The mean and standard deviation of the process are 1.98 and 1.1517812292271479\n"
     ]
    }
   ],
   "source": [
    "print(\"The probability of 2 LED bulbs to be defective out of 6 drawn bulbs is {}\".format(binomial))\n",
    "print(\"The mean and standard deviation of the process are {} and {}\".format(n*p,math.sqrt(var)))"
   ]
  },
  {
   "cell_type": "markdown",
   "metadata": {},
   "source": [
    "Problem Statement 6:\n",
    "\n",
    "Gaurav and Barakha are both preparing for entrance exams. Gaurav attempts to\n",
    "solve 8 questions per day with a correction rate of 75%, while Barakha averages\n",
    "around 12 questions per day with a correction rate of 45%. What is the probability\n",
    "that each of them will solve 5 questions correctly? What happens in cases of 4 and 6\n",
    "correct solutions? What do you infer from it? What are the two main governing\n",
    "factors affecting their ability to solve questions correctly? Give a pictorial\n",
    "representation of the same to validate your answer.\n"
   ]
  },
  {
   "cell_type": "code",
   "execution_count": 17,
   "metadata": {},
   "outputs": [
    {
     "name": "stdout",
     "output_type": "stream",
     "text": [
      " The probability of getting the required no of questions correct at success rate of 25% decreases in the order \n",
      " 4-->0.08651733398437506 \n",
      " 5-->0.02307128906250001 \n",
      " 6-->0.003845214843750005 \n",
      "\n"
     ]
    }
   ],
   "source": [
    "\"\"\"Gaurav has a consistency of getting 25% of 8 questions right on average per day since the correction rate is 75%. Hence the\n",
    "success rate is (1-0.75=0.25), the success rate of getting 6,5 and 4 questions right at a correction rate of 75% is given by \n",
    "binomial distribution\"\"\"\n",
    "\n",
    "#From the given standard for Gaurav\n",
    "k= 5\n",
    "n= 8\n",
    "p= 0.25\n",
    "\n",
    "bin1= binom.pmf(k,n,p)\n",
    "#print(bin1)\n",
    "\n",
    "#When expected no of correct questions is 4\n",
    "k1= 4\n",
    "n1= 8\n",
    "p1=0.25\n",
    "bin2= binom.pmf(k1,n1,p1)\n",
    "#print(bin2)\n",
    "\n",
    "#When expected no of correct questions is 6\n",
    "k2= 6\n",
    "n2= 8\n",
    "p2=0.25\n",
    "bin3= binom.pmf(k2,n2,p2)\n",
    "#print(bin3)\n",
    "\n",
    "print(\" The probability of getting the required no of questions correct at success rate of 25% decreases in the order \\n 4-->{} \\n 5-->{} \\n 6-->{} \\n\".format(bin2,bin1,bin3))\n",
    "\n",
    "\n"
   ]
  },
  {
   "cell_type": "code",
   "execution_count": 18,
   "metadata": {},
   "outputs": [
    {
     "name": "stdout",
     "output_type": "stream",
     "text": [
      " The probability of getting the required no of questions correct at such a success rate of 55% decreases in the order \n",
      " 4-->0.19357770681381198 \n",
      " 5-->0.10324144363403313 \n",
      " 6-->0.040149450302123975 \n",
      "\n"
     ]
    }
   ],
   "source": [
    "\"\"\"Barkha has a consistency of getting 55% of 12 questions right on average per day since the correction rate is 45%. Hence the\n",
    "success rate is (1-0.45=0.55), the success rate of getting 6,5 and 4 questions right at a correction rate of 45% is given by \n",
    "Poisson distribution\"\"\"\n",
    "\n",
    "#From the given standard for Gaurav\n",
    "k= 5\n",
    "n= 12\n",
    "p1= 0.55\n",
    "\n",
    "bin11= binom.pmf(k,n,p)\n",
    "\n",
    "#When expected no of correct questions is 4\n",
    "k1=4\n",
    "bin21= binom.pmf(k1,n,p)\n",
    "#print(bin2)\n",
    "\n",
    "#When expected no of correct questions is 6\n",
    "k2=6\n",
    "bin31= binom.pmf(k2,n,p)\n",
    "#print(bin3)\n",
    "\n",
    "print(\" The probability of getting the required no of questions correct at such a success rate of 55% decreases in the order \\n 4-->{} \\n 5-->{} \\n 6-->{} \\n\".format(bin21,bin11,bin31))\n"
   ]
  },
  {
   "cell_type": "code",
   "execution_count": 19,
   "metadata": {},
   "outputs": [],
   "source": [
    "import matplotlib.pyplot as plt"
   ]
  },
  {
   "cell_type": "code",
   "execution_count": 20,
   "metadata": {},
   "outputs": [
    {
     "data": {
      "image/png": "[encoded data removed]",
      "text/plain": [
       "<Figure size 504x504 with 2 Axes>"
      ]
     },
     "metadata": {
      "needs_background": "light"
     },
     "output_type": "display_data"
    }
   ],
   "source": [
    "fig= plt.figure(figsize=(7,7))\n",
    "plt.subplot(2,2,1)\n",
    "x= [4,5,6]\n",
    "y= [bin2, bin1, bin3]\n",
    "plt.bar(x,y,color='green')\n",
    "plt.xlabel(\"No of correct questions\")\n",
    "plt.ylabel(\"Probability of correct answers\")\n",
    "plt.title(\"Probability of correct questions- Gaurav vs Barkha\")\n",
    "plt.subplot(2,2,2)\n",
    "x1= [4,5,6]\n",
    "y1= [bin21, bin11, bin31]\n",
    "plt.bar(x1,y1, color= 'maroon')\n",
    "plt. xlabel(\"No of correct questions\")\n",
    "plt.show()"
   ]
  },
  {
   "cell_type": "markdown",
   "metadata": {},
   "source": [
    "From the result and bar plot we can see for Gaurav that as no of required correct questions increases his probability of\n",
    "acing the questions decreases due to low success rate on average per day. On the contrary in Bharkha due to high success rate \n",
    "the probability of acing no of required correct questions increases\n",
    "\n",
    "1 Consistency in questions practiced per day\n",
    "2 correction rate decreases\n",
    "\n",
    "determine their individual success in acing the exam questions. If the individual reduces the no of questions at the same\n",
    "error/correction rate to be practiced on a daily basis, it will turn out to be counter-intuitive. The no of questions practised\n",
    "should be increased with a steady decline in correction rate."
   ]
  },
  {
   "cell_type": "markdown",
   "metadata": {},
   "source": [
    "_______________________________________________________________________________________________________________"
   ]
  },
  {
   "cell_type": "markdown",
   "metadata": {},
   "source": [
    "Problem Statement 7:\n",
    "\n",
    "Customers arrive at a rate of 72 per hour to my shop. What is the probability of 𝑘\n",
    "customers arriving in 4 minutes? a) 5 customers, b) not more than 3 customers, c)\n",
    "more than 3 customers. Give a pictorial representation of the same to validate your\n",
    "answer.\n"
   ]
  },
  {
   "cell_type": "code",
   "execution_count": 21,
   "metadata": {},
   "outputs": [],
   "source": [
    "from scipy.stats import poisson"
   ]
  },
  {
   "cell_type": "code",
   "execution_count": 22,
   "metadata": {},
   "outputs": [
    {
     "name": "stdout",
     "output_type": "stream",
     "text": [
      "The probability of 5 customers arriving in 4 minutes is 0.175\n",
      "The probability of not more than 3 customers arriving in 4 minutes is 0.143\n",
      "The probability of more than 3 customers arriving in 4 minutes is 0.706\n"
     ]
    }
   ],
   "source": [
    "mean= 4.8 #72/hour is 1.2 customers /min---1.2*4 gives 4.8 customers/4mins\n",
    "#The goal is to find the no of customers coming in at 4 mins\n",
    "\"\"\"The poisson distribution for this looks more like\n",
    "        P(X= k)= e^-lambda*lambda^k/k!\"\"\"\n",
    "\n",
    "x= poisson(mean)\n",
    "\n",
    "#What is probability of 5 customers arriving in 4 minutes\n",
    "\n",
    "P_5= x.pmf(5)\n",
    "\n",
    "#What is probability of not more than 3 customers arriving in 4 minutes\n",
    "\n",
    "P_3_1= (x.pmf(0)+x.pmf(1)+x.pmf(2))\n",
    "\n",
    "#What is probability of more than 3 customers arriving in 4 minutes\n",
    "P3= (x.pmf(0)+x.pmf(1)+x.pmf(2)+x.pmf(3))\n",
    "\n",
    "P_3_2= 1-P3\n",
    "\n",
    "print(\"The probability of 5 customers arriving in 4 minutes is {}\".format(round(P_5,3)))\n",
    "print(\"The probability of not more than 3 customers arriving in 4 minutes is {}\".format(round(P_3_1,3)))\n",
    "print(\"The probability of more than 3 customers arriving in 4 minutes is {}\".format(round(P_3_2,3)))\n",
    "\n"
   ]
  },
  {
   "cell_type": "markdown",
   "metadata": {},
   "source": [
    "Problem Statement 10:\n",
    "\n",
    "Please compute the following:\n",
    "a) P(Z > 1.26), . P(Z < −0.86), P(Z > −1.37), P(−1.25 < Z < 0.37), . P(Z ≤ −4.6)\n",
    "b) Find the value 𝑧 such that 𝑃(𝑍 > 𝑧) = 0.05\n",
    "c) Find the value of 𝑧 such that 𝑃(−𝑧 < 𝑍 < 𝑧) = 0.99"
   ]
  },
  {
   "cell_type": "markdown",
   "metadata": {},
   "source": [
    "a) P(Z > 1.26), . P(Z < −0.86), P(Z > −1.37), P(−1.25 < Z < 0.37), . P(Z ≤ −4.6)"
   ]
  },
  {
   "cell_type": "code",
   "execution_count": 33,
   "metadata": {},
   "outputs": [
    {
     "name": "stdout",
     "output_type": "stream",
     "text": [
      "The Probability value for area mentioned are as follows: \n",
      " P(Z>1.26)= 0.1038 \n",
      " P(Z<-0.86)=0.1949 \n",
      " P(Z>-1.37)= 0.9147 \n",
      " P(-1.25<Z<0.37)=0.49369999999999997 \n",
      " P(Z<=-4.6)= 0\n",
      "__________________________________________\n",
      "The z value for probability of 0.05 is -1.64\n",
      "____________________________________________\n",
      "The z value for P(-z<Z<z)=0.99 is 2.54\n"
     ]
    }
   ],
   "source": [
    "#From Z-statistic table\n",
    "# a) for Z >1.26\n",
    "\n",
    "#In this case from probability rule we find the probability of Z <=1.26 and then 1- P(Z<=1.26)\n",
    "\n",
    "P_1_1= 1- 0.8962 \n",
    "\n",
    "# for Z<-0.86\n",
    "P_1_2= 0.1949\n",
    "\n",
    "#for Z>-1.37\n",
    "#Again, we shall find for Z<=-1.37 and then 1- P(Z<=-1.37)\n",
    "P_1_3= 1- 0.0853\n",
    "\n",
    "#for -1.25<Z<0.37\n",
    "P_1_4= 0.6443-0.1506\n",
    "\n",
    "#for Z <=-4.6\n",
    "P_1_5= 0\n",
    "\n",
    "print(\"The Probability value for area mentioned are as follows: \\n P(Z>1.26)= {} \\n P(Z<-0.86)={} \\n P(Z>-1.37)= {} \\n P(-1.25<Z<0.37)={} \\n P(Z<=-4.6)= {}\".format(P_1_1, P_1_2, P_1_3, P_1_4, P_1_5))\n",
    "\n",
    "print(\"__________________________________________\")\n",
    "\n",
    "#for P(Z<z)=0.05\n",
    "z= - 1.64\n",
    "\n",
    "print(\"The z value for probability of 0.05 is {}\".format(z))\n",
    "print(\"____________________________________________\")\n",
    "\n",
    "#for P(-z <Z< z)= 0.99\n",
    "\"\"\"Total probability =1\n",
    "   hence p= 1- 0.99= 0.01\n",
    "   \n",
    "     0.01/2= 0.005\"\"\"\n",
    "\n",
    "#Hence we have to find P(Z<0.005). From the table, it is 2.54\n",
    "# z1= - 2.54 \n",
    "# z2= 2.54\n",
    "#P(-2.54<Z<2.54)= 0.9945-0.0055= 0.989 ~0.99\n",
    "\n",
    "#hence \n",
    "z1= 2.54\n",
    "\n",
    "print(\"The z value for P(-z<Z<z)=0.99 is {}\".format(z1))"
   ]
  },
  {
   "cell_type": "markdown",
   "metadata": {},
   "source": [
    "Problem Statement 12:\n",
    "\n",
    "The shaft in a piston has its diameter normally distributed with a mean of 0.2508 inch\n",
    "and a standard deviation of 0.0005 inch. The specifications of the shaft are 0.2500 ∓\n",
    "0.0015 inch. What proportion of shafts are in sync with the specifications? If the\n",
    "process is centered so that the mean is equal to the target value of 0.2500, what\n",
    "proportion of shafts conform to the new specifications? What is your conclusion from\n",
    "this experiment?"
   ]
  },
  {
   "cell_type": "code",
   "execution_count": 40,
   "metadata": {},
   "outputs": [
    {
     "name": "stdout",
     "output_type": "stream",
     "text": [
      "Nearly 92 % conform to specification\n",
      "About 99.74000000000001 % would conform to specification if the process mean is substituted with the target\n"
     ]
    }
   ],
   "source": [
    "\"\"\"From the problem it is clear that\n",
    "\n",
    "P(0.2485-0.2508/0.0005<Z<0.2515-0.2508/0.0005)\n",
    "\n",
    "P1 will be given as P(-4.6<Z<1.4)\"\"\"\n",
    "\n",
    "#From the normal dist table\n",
    "\n",
    "P1= 0.91924-0.0000\n",
    "\n",
    "print(\"Nearly {} % conform to specification\".format(round(P1*100),2))\n",
    "\n",
    "#Change of target mean to 0.2500\n",
    "\n",
    "\"\"\"P(0.2485-0.2500/0.0005<Z<0.2515-0.2500/0.0005)\n",
    "  P2 will be given as P(-3<Z<3)\"\"\"\n",
    "\n",
    "#from the dist table\n",
    "\n",
    "P2= 0.9987-0.0013\n",
    "\n",
    "print(\"About {} % would conform to specification if the process mean is substituted with the target\".format(P2*100))"
   ]
  },
  {
   "cell_type": "markdown",
   "metadata": {},
   "source": [
    "Problem Statement 11:\n",
    "\n",
    "The current flow in a copper wire follow a normal distribution with a mean of 10 𝑚A\n",
    "and a variance of 4 (𝑚𝐴)2.\n",
    "What is the probability that a current measurement will exceed 13 𝑚𝐴? What is the\n",
    "probability that a current measurement is between 9 and 11mA? Determine the\n",
    "current measurement which has a probability of 0.98.\n"
   ]
  },
  {
   "cell_type": "code",
   "execution_count": 43,
   "metadata": {},
   "outputs": [
    {
     "name": "stdout",
     "output_type": "stream",
     "text": [
      "The probability that current measurement will exceed 13mA is 0.06679999999999997\n",
      "______________________________________________________\n",
      "The probability that current measurement will lie between 9mA and 11mA is 0.38292\n",
      "____________________________________\n",
      "The current measurement that has a probability of 0.98 is 14.1 mA\n"
     ]
    }
   ],
   "source": [
    "mu= 10\n",
    "sigma= 2\n",
    "\"\"\"Probability of current measurement exceedingf 13mA\"\"\"\n",
    "#P(Z>13)\n",
    "#P(Z>13)= 1-P(Z<=13)\n",
    "\n",
    "#P(Z<(13-10)/2)= P(Z<1.5)\n",
    "\n",
    "P13= 1-0.9332\n",
    "\n",
    "print(\"The probability that current measurement will exceed 13mA is {}\".format(P13))\n",
    "\n",
    "print(\"______________________________________________________\")\n",
    "\n",
    "\"\"\"Probability that current measurement will be 9<Z<11\"\"\"\n",
    "#P(9<Z<11)= P(9-10/2<Z<11-10/2)= P(-0.5<Z<0.5)\n",
    "\n",
    "P23= 0.69146-0.30854\n",
    "\n",
    "print(\"The probability that current measurement will lie between 9mA and 11mA is {}\".format(P23))\n",
    "\n",
    "print(\"____________________________________\")\n",
    "\n",
    "\"\"\"Find the current measurement which has a probability of 0.98\"\"\"\n",
    "#P(Z<(x-10)/2)=0.98\n",
    "#From the normal dist table\n",
    "#P(Z<2.05)= 0.9798\n",
    "\n",
    "#Since z= x-mu/sigma\n",
    "z= 2.05\n",
    "x= sigma*(z)+mu\n",
    "\n",
    "print(\"The current measurement that has a probability of 0.98 is {} mA\".format(x))"
   ]
  },
  {
   "cell_type": "code",
   "execution_count": null,
   "metadata": {},
   "outputs": [],
   "source": []
  },
  {
   "cell_type": "code",
   "execution_count": null,
   "metadata": {},
   "outputs": [],
   "source": []
  },
  {
   "cell_type": "code",
   "execution_count": null,
   "metadata": {},
   "outputs": [],
   "source": []
  },
  {
   "cell_type": "code",
   "execution_count": null,
   "metadata": {},
   "outputs": [],
   "source": []
  },
  {
   "cell_type": "code",
   "execution_count": null,
   "metadata": {},
   "outputs": [],
   "source": []
  }
 ],
 "metadata": {
  "kernelspec": {
   "display_name": "Python 3",
   "language": "python",
   "name": "python3"
  },
  "language_info": {
   "codemirror_mode": {
    "name": "ipython",
    "version": 3
   },
   "file_extension": ".py",
   "mimetype": "text/x-python",
   "name": "python",
   "nbconvert_exporter": "python",
   "pygments_lexer": "ipython3",
   "version": "3.7.4"
  }
 },
 "nbformat": 4,
 "nbformat_minor": 2
}
