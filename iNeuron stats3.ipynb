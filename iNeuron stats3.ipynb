{
 "cells": [
  {
   "cell_type": "markdown",
   "metadata": {},
   "source": [
    "1. Blood glucose levels for obese patients have a mean of 100 with a standard deviation of\n",
    "15.A researcher thinks that a diet high in raw cornstarch will have a positive effect on\n",
    "blood glucose levels. A sample of 36 patients who have tried the raw cornstarch diet\n",
    "have a mean glucose level of 108. Test the hypothesis that the raw cornstarch had an\n",
    "effect or no"
   ]
  },
  {
   "cell_type": "code",
   "execution_count": 1,
   "metadata": {},
   "outputs": [],
   "source": [
    "import math"
   ]
  },
  {
   "cell_type": "code",
   "execution_count": 2,
   "metadata": {},
   "outputs": [],
   "source": [
    "#From the question it is evident that\n",
    "sample_size =36\n",
    "sample_mean = 108\n",
    "population_mean =100\n",
    "standard_dev= 15"
   ]
  },
  {
   "cell_type": "markdown",
   "metadata": {},
   "source": [
    "H0: Raw constarch has an effect  [i.e. population_mean =100]\n",
    "H1: Raw cornstarch has no effect [i.e. population_mean != 100]"
   ]
  },
  {
   "cell_type": "code",
   "execution_count": 3,
   "metadata": {},
   "outputs": [],
   "source": [
    "Z= (sample_mean- population_mean)/(standard_dev/math.sqrt(sample_size))"
   ]
  },
  {
   "cell_type": "code",
   "execution_count": 4,
   "metadata": {},
   "outputs": [
    {
     "name": "stdout",
     "output_type": "stream",
     "text": [
      "The z value for the test is 3.2\n"
     ]
    }
   ],
   "source": [
    "print(\"The z value for the test is\", Z)"
   ]
  },
  {
   "cell_type": "markdown",
   "metadata": {},
   "source": [
    "By checking Z-table we found the probability of z- value was 0.993. In accordance with the problem, the researcher believes that diet prescribed could bring an average blood glucose level of 108 and the probability of that values from z-stats denotes that such a glucose level being less than 108 is around 99.3%.\n",
    "\n",
    "At 5% level of significance,\n",
    "The blood glucose level probability being greater than 0.05 is (1-0.993)= 0.007, which is less.\n",
    "With that being the case it is safe to reject the H0"
   ]
  },
  {
   "cell_type": "code",
   "execution_count": 5,
   "metadata": {},
   "outputs": [
    {
     "name": "stdout",
     "output_type": "stream",
     "text": [
      "The raw cornstarch doesn't have any effect on the blood glucose level\n"
     ]
    }
   ],
   "source": [
    "print(\"The raw cornstarch doesn't have any effect on the blood glucose level\")"
   ]
  },
  {
   "cell_type": "markdown",
   "metadata": {},
   "source": [
    "2. In one state, 52% of the voters are Republicans, and 48% are Democrats. In a second\n",
    "state, 47% of the voters are Republicans, and 53% are Democrats. Suppose a simple\n",
    "random sample of 100 voters are surveyed from each state.\n",
    "What is the probability that the survey will show a greater percentage of Republican\n",
    "voters in the second state than in the first state?"
   ]
  },
  {
   "cell_type": "code",
   "execution_count": 6,
   "metadata": {},
   "outputs": [],
   "source": [
    "#let us assume\n",
    "#R1- portion of republican voters in state1\n",
    "#R2- portion of republican voters in state2\n",
    "#r1- sample portion of republican voters in state1\n",
    "#r2- sample portion of republican voters in state2"
   ]
  },
  {
   "cell_type": "code",
   "execution_count": 7,
   "metadata": {},
   "outputs": [],
   "source": [
    "R1= 0.52\n",
    "R2= 0.47\n",
    "n1=n2=100 #sample size to be taken from both states\n",
    "R01= 1-0.52 #portion of non R1 voters from state1\n",
    "R02= 1-0.47 #portion of non R2 voters from stat2"
   ]
  },
  {
   "cell_type": "code",
   "execution_count": 8,
   "metadata": {},
   "outputs": [],
   "source": [
    "#For calculating the-Z score we need population mean and std dev\n",
    "\n",
    "mu= R1-R2\n",
    "\n",
    "std_dev= math.sqrt(((R1*R01)/n1)+ ((R2*R02)/n2))\n"
   ]
  },
  {
   "cell_type": "code",
   "execution_count": 9,
   "metadata": {},
   "outputs": [],
   "source": [
    "#Apparently we can see our purpose is to prove anything but rather find the prob of voters being more in R02 when compared to \n",
    "#R01. It is fair enough to say sample mean will be equal to 0\n",
    "Z= (0-mu)/std_dev"
   ]
  },
  {
   "cell_type": "code",
   "execution_count": 10,
   "metadata": {},
   "outputs": [
    {
     "name": "stdout",
     "output_type": "stream",
     "text": [
      "The Z score is -0.7080278164104213\n"
     ]
    }
   ],
   "source": [
    "print(\"The Z score is\", Z)"
   ]
  },
  {
   "cell_type": "markdown",
   "metadata": {},
   "source": [
    "The probability of finding the more republican voters from second state when compared to first state is 0.24 or 24% as per inference from probability of determined z-score"
   ]
  },
  {
   "cell_type": "markdown",
   "metadata": {},
   "source": [
    "_______________________________________________________________________________"
   ]
  },
  {
   "cell_type": "markdown",
   "metadata": {},
   "source": [
    "3. You take the SAT and score 1100. The mean score for the SAT is 1026 and the standard\n",
    "deviation is 209. How well did you score on the test compared to the average test taker?"
   ]
  },
  {
   "cell_type": "code",
   "execution_count": 11,
   "metadata": {},
   "outputs": [],
   "source": [
    "#This problem uses the std dev value derived from Z-score to compare how well a test taker faired against an average person\n",
    "\n",
    "x= 1100\n",
    "mu= 1026\n",
    "std= 209\n",
    "\n",
    "Z= (x-mu)/std"
   ]
  },
  {
   "cell_type": "code",
   "execution_count": 12,
   "metadata": {},
   "outputs": [
    {
     "name": "stdout",
     "output_type": "stream",
     "text": [
      "The mark scored is 0.35406698564593303 above the average test taker\n"
     ]
    }
   ],
   "source": [
    "print(\"The mark scored is {} above the average test taker\".format(Z))"
   ]
  },
  {
   "cell_type": "code",
   "execution_count": null,
   "metadata": {},
   "outputs": [],
   "source": []
  },
  {
   "cell_type": "code",
   "execution_count": null,
   "metadata": {},
   "outputs": [],
   "source": []
  },
  {
   "cell_type": "code",
   "execution_count": null,
   "metadata": {},
   "outputs": [],
   "source": []
  }
 ],
 "metadata": {
  "kernelspec": {
   "display_name": "Python 3",
   "language": "python",
   "name": "python3"
  },
  "language_info": {
   "codemirror_mode": {
    "name": "ipython",
    "version": 3
   },
   "file_extension": ".py",
   "mimetype": "text/x-python",
   "name": "python",
   "nbconvert_exporter": "python",
   "pygments_lexer": "ipython3",
   "version": "3.7.4"
  }
 },
 "nbformat": 4,
 "nbformat_minor": 2
}
