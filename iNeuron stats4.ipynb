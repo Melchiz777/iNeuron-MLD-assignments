{
 "cells": [
  {
   "cell_type": "markdown",
   "metadata": {},
   "source": [
    "Problem 1\n",
    "\n",
    "Is gender independent of education level? A random sample of 395 people were\n",
    "surveyed and each person was asked to report the highest education level they\n",
    "obtained. The data that resulted from the survey is summarized in the following table:\n",
    "High School Bachelors Masters Ph.d. Total\n",
    "Female 60 54 46 41 201\n",
    "Male 40 44 53 57 194\n",
    "Total 100 98 99 98 395\n",
    "Question: Are gender and education level dependent at 5% level of significance? In\n",
    "other words, given the data collected above, is there a relationship between the\n",
    "gender of an individual and the level of education that they have obtained?"
   ]
  },
  {
   "cell_type": "code",
   "execution_count": 1,
   "metadata": {},
   "outputs": [],
   "source": [
    "import numpy as np\n",
    "import pandas as pd\n",
    "from scipy import stats"
   ]
  },
  {
   "cell_type": "markdown",
   "metadata": {},
   "source": [
    "H0: The education and gender are independent\n",
    "\n",
    "H1: The education and gender are dependent"
   ]
  },
  {
   "cell_type": "code",
   "execution_count": 2,
   "metadata": {},
   "outputs": [],
   "source": [
    "#Let us re-create the dataframe from the question in the cell and add the aggregate sum across column and row\n",
    "\n",
    "female_count= [60,54,46,41]\n",
    "female_count.append(sum(female_count))\n",
    "male_count= [40,44,53,57]\n",
    "male_count.append(sum(male_count))\n",
    "high_school= [60,40]\n",
    "HS_total= sum(high_school)\n",
    "Bachelors= [54,44]\n",
    "Bac_total= sum(Bachelors)\n",
    "Masters= [46,53]\n",
    "Mas_total= sum(Masters)\n",
    "PhD= [41,57]\n",
    "Phd_total= sum(PhD)\n",
    "gender= ['Female','Male','All']\n",
    "we= HS_total+Bac_total+Mas_total+Phd_total\n",
    "col_total= [HS_total, Bac_total, Mas_total, Phd_total,we]"
   ]
  },
  {
   "cell_type": "code",
   "execution_count": 3,
   "metadata": {},
   "outputs": [],
   "source": [
    "female_count.insert(0, 'Female')"
   ]
  },
  {
   "cell_type": "code",
   "execution_count": 4,
   "metadata": {},
   "outputs": [],
   "source": [
    "male_count.insert(0,'Male')"
   ]
  },
  {
   "cell_type": "code",
   "execution_count": 5,
   "metadata": {},
   "outputs": [],
   "source": [
    "col_total.insert(0,'All')"
   ]
  },
  {
   "cell_type": "code",
   "execution_count": 6,
   "metadata": {},
   "outputs": [],
   "source": [
    "lst= [female_count, male_count, col_total]"
   ]
  },
  {
   "cell_type": "code",
   "execution_count": 11,
   "metadata": {},
   "outputs": [],
   "source": [
    "Table1= pd.DataFrame(lst, columns=['Gender','High_school','Bachelors','Masters', 'PhD', 'All'],index=None)"
   ]
  },
  {
   "cell_type": "code",
   "execution_count": 12,
   "metadata": {},
   "outputs": [
    {
     "data": {
      "text/html": [
       "<div>\n",
       "<style scoped>\n",
       "    .dataframe tbody tr th:only-of-type {\n",
       "        vertical-align: middle;\n",
       "    }\n",
       "\n",
       "    .dataframe tbody tr th {\n",
       "        vertical-align: top;\n",
       "    }\n",
       "\n",
       "    .dataframe thead th {\n",
       "        text-align: right;\n",
       "    }\n",
       "</style>\n",
       "<table border=\"1\" class=\"dataframe\">\n",
       "  <thead>\n",
       "    <tr style=\"text-align: right;\">\n",
       "      <th></th>\n",
       "      <th>Gender</th>\n",
       "      <th>High_school</th>\n",
       "      <th>Bachelors</th>\n",
       "      <th>Masters</th>\n",
       "      <th>PhD</th>\n",
       "      <th>All</th>\n",
       "    </tr>\n",
       "  </thead>\n",
       "  <tbody>\n",
       "    <tr>\n",
       "      <td>0</td>\n",
       "      <td>Female</td>\n",
       "      <td>60</td>\n",
       "      <td>54</td>\n",
       "      <td>46</td>\n",
       "      <td>41</td>\n",
       "      <td>201</td>\n",
       "    </tr>\n",
       "    <tr>\n",
       "      <td>1</td>\n",
       "      <td>Male</td>\n",
       "      <td>40</td>\n",
       "      <td>44</td>\n",
       "      <td>53</td>\n",
       "      <td>57</td>\n",
       "      <td>194</td>\n",
       "    </tr>\n",
       "    <tr>\n",
       "      <td>2</td>\n",
       "      <td>All</td>\n",
       "      <td>100</td>\n",
       "      <td>98</td>\n",
       "      <td>99</td>\n",
       "      <td>98</td>\n",
       "      <td>395</td>\n",
       "    </tr>\n",
       "  </tbody>\n",
       "</table>\n",
       "</div>"
      ],
      "text/plain": [
       "   Gender  High_school  Bachelors  Masters  PhD  All\n",
       "0  Female           60         54       46   41  201\n",
       "1    Male           40         44       53   57  194\n",
       "2     All          100         98       99   98  395"
      ]
     },
     "execution_count": 12,
     "metadata": {},
     "output_type": "execute_result"
    }
   ],
   "source": [
    "Table1"
   ]
  },
  {
   "cell_type": "code",
   "execution_count": 15,
   "metadata": {},
   "outputs": [],
   "source": [
    "Table2= Table1.iloc[0:2, 0:5]"
   ]
  },
  {
   "cell_type": "code",
   "execution_count": 16,
   "metadata": {},
   "outputs": [
    {
     "data": {
      "text/html": [
       "<div>\n",
       "<style scoped>\n",
       "    .dataframe tbody tr th:only-of-type {\n",
       "        vertical-align: middle;\n",
       "    }\n",
       "\n",
       "    .dataframe tbody tr th {\n",
       "        vertical-align: top;\n",
       "    }\n",
       "\n",
       "    .dataframe thead th {\n",
       "        text-align: right;\n",
       "    }\n",
       "</style>\n",
       "<table border=\"1\" class=\"dataframe\">\n",
       "  <thead>\n",
       "    <tr style=\"text-align: right;\">\n",
       "      <th></th>\n",
       "      <th>Gender</th>\n",
       "      <th>High_school</th>\n",
       "      <th>Bachelors</th>\n",
       "      <th>Masters</th>\n",
       "      <th>PhD</th>\n",
       "    </tr>\n",
       "  </thead>\n",
       "  <tbody>\n",
       "    <tr>\n",
       "      <td>0</td>\n",
       "      <td>Female</td>\n",
       "      <td>60</td>\n",
       "      <td>54</td>\n",
       "      <td>46</td>\n",
       "      <td>41</td>\n",
       "    </tr>\n",
       "    <tr>\n",
       "      <td>1</td>\n",
       "      <td>Male</td>\n",
       "      <td>40</td>\n",
       "      <td>44</td>\n",
       "      <td>53</td>\n",
       "      <td>57</td>\n",
       "    </tr>\n",
       "  </tbody>\n",
       "</table>\n",
       "</div>"
      ],
      "text/plain": [
       "   Gender  High_school  Bachelors  Masters  PhD\n",
       "0  Female           60         54       46   41\n",
       "1    Male           40         44       53   57"
      ]
     },
     "execution_count": 16,
     "metadata": {},
     "output_type": "execute_result"
    }
   ],
   "source": [
    "Table2"
   ]
  },
  {
   "cell_type": "markdown",
   "metadata": {},
   "source": [
    "Table2 contains our observed frequency and now we have to find the expected frequency to do chi-sqaure test of indepedence"
   ]
  },
  {
   "cell_type": "code",
   "execution_count": 20,
   "metadata": {},
   "outputs": [],
   "source": [
    "Table2_1= Table2.drop(['Gender'],axis=1)"
   ]
  },
  {
   "cell_type": "code",
   "execution_count": 21,
   "metadata": {},
   "outputs": [
    {
     "data": {
      "text/html": [
       "<div>\n",
       "<style scoped>\n",
       "    .dataframe tbody tr th:only-of-type {\n",
       "        vertical-align: middle;\n",
       "    }\n",
       "\n",
       "    .dataframe tbody tr th {\n",
       "        vertical-align: top;\n",
       "    }\n",
       "\n",
       "    .dataframe thead th {\n",
       "        text-align: right;\n",
       "    }\n",
       "</style>\n",
       "<table border=\"1\" class=\"dataframe\">\n",
       "  <thead>\n",
       "    <tr style=\"text-align: right;\">\n",
       "      <th></th>\n",
       "      <th>High_school</th>\n",
       "      <th>Bachelors</th>\n",
       "      <th>Masters</th>\n",
       "      <th>PhD</th>\n",
       "    </tr>\n",
       "  </thead>\n",
       "  <tbody>\n",
       "    <tr>\n",
       "      <td>0</td>\n",
       "      <td>60</td>\n",
       "      <td>54</td>\n",
       "      <td>46</td>\n",
       "      <td>41</td>\n",
       "    </tr>\n",
       "    <tr>\n",
       "      <td>1</td>\n",
       "      <td>40</td>\n",
       "      <td>44</td>\n",
       "      <td>53</td>\n",
       "      <td>57</td>\n",
       "    </tr>\n",
       "  </tbody>\n",
       "</table>\n",
       "</div>"
      ],
      "text/plain": [
       "   High_school  Bachelors  Masters  PhD\n",
       "0           60         54       46   41\n",
       "1           40         44       53   57"
      ]
     },
     "execution_count": 21,
     "metadata": {},
     "output_type": "execute_result"
    }
   ],
   "source": [
    "Table2_1"
   ]
  },
  {
   "cell_type": "code",
   "execution_count": 29,
   "metadata": {},
   "outputs": [],
   "source": [
    "t3= np.outer(Table1['All'][0:2],Table1.iloc[2:3,1:5])/395.0"
   ]
  },
  {
   "cell_type": "code",
   "execution_count": 31,
   "metadata": {},
   "outputs": [],
   "source": [
    "t3= pd.DataFrame(t3)\n",
    "t3.columns= ['High_school','Bachelors','Masters','PhD']\n",
    "t3.index= [0,1]"
   ]
  },
  {
   "cell_type": "code",
   "execution_count": 32,
   "metadata": {},
   "outputs": [
    {
     "data": {
      "text/html": [
       "<div>\n",
       "<style scoped>\n",
       "    .dataframe tbody tr th:only-of-type {\n",
       "        vertical-align: middle;\n",
       "    }\n",
       "\n",
       "    .dataframe tbody tr th {\n",
       "        vertical-align: top;\n",
       "    }\n",
       "\n",
       "    .dataframe thead th {\n",
       "        text-align: right;\n",
       "    }\n",
       "</style>\n",
       "<table border=\"1\" class=\"dataframe\">\n",
       "  <thead>\n",
       "    <tr style=\"text-align: right;\">\n",
       "      <th></th>\n",
       "      <th>High_school</th>\n",
       "      <th>Bachelors</th>\n",
       "      <th>Masters</th>\n",
       "      <th>PhD</th>\n",
       "    </tr>\n",
       "  </thead>\n",
       "  <tbody>\n",
       "    <tr>\n",
       "      <td>0</td>\n",
       "      <td>50.886076</td>\n",
       "      <td>49.868354</td>\n",
       "      <td>50.377215</td>\n",
       "      <td>49.868354</td>\n",
       "    </tr>\n",
       "    <tr>\n",
       "      <td>1</td>\n",
       "      <td>49.113924</td>\n",
       "      <td>48.131646</td>\n",
       "      <td>48.622785</td>\n",
       "      <td>48.131646</td>\n",
       "    </tr>\n",
       "  </tbody>\n",
       "</table>\n",
       "</div>"
      ],
      "text/plain": [
       "   High_school  Bachelors    Masters        PhD\n",
       "0    50.886076  49.868354  50.377215  49.868354\n",
       "1    49.113924  48.131646  48.622785  48.131646"
      ]
     },
     "execution_count": 32,
     "metadata": {},
     "output_type": "execute_result"
    }
   ],
   "source": [
    "t3"
   ]
  },
  {
   "cell_type": "markdown",
   "metadata": {},
   "source": [
    "Table2_1 is our observed frequency and \n",
    "\n",
    "t3 is our observed frequency"
   ]
  },
  {
   "cell_type": "code",
   "execution_count": 43,
   "metadata": {},
   "outputs": [],
   "source": [
    "#Calculating chi-square test\n",
    "\n",
    "chi_sq_stat= (((Table2_1-t3)**2)/t3).sum()"
   ]
  },
  {
   "cell_type": "code",
   "execution_count": 44,
   "metadata": {},
   "outputs": [
    {
     "data": {
      "text/plain": [
       "High_school    3.323588\n",
       "Bachelors      0.696974\n",
       "Masters        0.774385\n",
       "PhD            3.211119\n",
       "dtype: float64"
      ]
     },
     "execution_count": 44,
     "metadata": {},
     "output_type": "execute_result"
    }
   ],
   "source": [
    "chi_sq_stat"
   ]
  },
  {
   "cell_type": "code",
   "execution_count": 45,
   "metadata": {},
   "outputs": [],
   "source": [
    "final_chi_sq= sum(chi_sq_stat)"
   ]
  },
  {
   "cell_type": "code",
   "execution_count": 46,
   "metadata": {},
   "outputs": [
    {
     "data": {
      "text/plain": [
       "8.006066246262538"
      ]
     },
     "execution_count": 46,
     "metadata": {},
     "output_type": "execute_result"
    }
   ],
   "source": [
    "final_chi_sq"
   ]
  },
  {
   "cell_type": "code",
   "execution_count": 47,
   "metadata": {},
   "outputs": [
    {
     "name": "stdout",
     "output_type": "stream",
     "text": [
      "The critical value is 7.814727903251179\n"
     ]
    }
   ],
   "source": [
    "#At 5% level of significance and df= (no of row-1)(no of col-1)= (2-1)(4-1)=3\n",
    "\n",
    "critical_val= stats.chi2.ppf(q=1-0.05, df=3)\n",
    "print(\"The critical value is\",critical_val)"
   ]
  },
  {
   "cell_type": "code",
   "execution_count": 52,
   "metadata": {},
   "outputs": [
    {
     "name": "stdout",
     "output_type": "stream",
     "text": [
      "The chi-square value 8.006066246262538 is > critical value 7.814727903251179 at 5% level of significance and hence we can reject the null hypothesis.Therefore we can conclude the problem by stating that education and gender are dependent\n"
     ]
    }
   ],
   "source": [
    "print(\"The chi-square value {} is > critical value {} at 5% level of significance and hence we can reject the null hypothesis.Therefore we can conclude the problem by stating that education and gender are dependent\".format(final_chi_sq,critical_val))"
   ]
  },
  {
   "cell_type": "markdown",
   "metadata": {},
   "source": [
    "Problem Statement 2:\n",
    "\n",
    "Using the following data, perform a oneway analysis of variance using α=.05. Write\n",
    "up the results in APA format.\n",
    "\n",
    "[Group1: 51, 45, 33, 45, 67]\n",
    "[Group2: 23, 43, 23, 43, 45]\n",
    "[Group3: 56, 76, 74, 87, 56]"
   ]
  },
  {
   "cell_type": "code",
   "execution_count": 53,
   "metadata": {},
   "outputs": [],
   "source": [
    "Group1= [51,45,33,45,67]\n",
    "Group2= [23,43,23,43,45]\n",
    "Group3= [56,76,74,87,56]"
   ]
  },
  {
   "cell_type": "code",
   "execution_count": 54,
   "metadata": {},
   "outputs": [
    {
     "name": "stdout",
     "output_type": "stream",
     "text": [
      "The f statistic value 9.747205503009463 and pvalue 0.0030597541434430556 \n"
     ]
    }
   ],
   "source": [
    "#one way ANOVA\n",
    "\n",
    "statistic, pvalue= stats.f_oneway(Group1, Group2, Group3)\n",
    "\n",
    "print(\"The f statistic value {} and pvalue {} \". format(statistic,pvalue))"
   ]
  },
  {
   "cell_type": "markdown",
   "metadata": {},
   "source": [
    "At alpha= 0.05 and p-value is less than 0.05 and we can infer that the sample means of 3 groups are different from one another"
   ]
  },
  {
   "cell_type": "markdown",
   "metadata": {},
   "source": [
    "Problem Statement 3:\n",
    "\n",
    "Calculate F Test for given 10, 20, 30, 40, 50 and 5,10,15, 20, 25.\n",
    "\n",
    "For 10, 20, 30, 40, 50:"
   ]
  },
  {
   "cell_type": "code",
   "execution_count": 55,
   "metadata": {},
   "outputs": [],
   "source": [
    "#The objective is to find f-test value which is defined as\n",
    "# F= variance1/variance2\n",
    "\n",
    "#To calculate variance:\n",
    "# variance = (xi -x)^2/n-1\n",
    "\n",
    "\n",
    "Grp1= [10,20,30,40,50]\n",
    "Grp2= [5,10,15,20,25]\n",
    "grp1_mean= np.mean(Grp1)\n",
    "grp2_mean= np.mean(Grp2)"
   ]
  },
  {
   "cell_type": "code",
   "execution_count": 57,
   "metadata": {},
   "outputs": [],
   "source": [
    "sum_grp1=[]\n",
    "sum_grp2=[]\n",
    "\n",
    "for i in Grp1:\n",
    "    val= (i-grp1_mean)**2\n",
    "    sum_grp1.append(val)\n",
    "    \n",
    "for j in Grp2:\n",
    "    val= (j-grp2_mean)**2\n",
    "    sum_grp2.append(val)"
   ]
  },
  {
   "cell_type": "code",
   "execution_count": 59,
   "metadata": {},
   "outputs": [],
   "source": [
    "variance1= sum(sum_grp1)/len(Grp1)-1\n",
    "\n",
    "variance2= sum(sum_grp2)/len(Grp2)-1"
   ]
  },
  {
   "cell_type": "code",
   "execution_count": 61,
   "metadata": {},
   "outputs": [
    {
     "name": "stdout",
     "output_type": "stream",
     "text": [
      "The F-test value is 4.061224489795919\n"
     ]
    }
   ],
   "source": [
    "F= variance1/variance2\n",
    "\n",
    "print(\"The F-test value is {}\".format(F))"
   ]
  },
  {
   "cell_type": "code",
   "execution_count": null,
   "metadata": {},
   "outputs": [],
   "source": []
  },
  {
   "cell_type": "code",
   "execution_count": null,
   "metadata": {},
   "outputs": [],
   "source": []
  },
  {
   "cell_type": "code",
   "execution_count": null,
   "metadata": {},
   "outputs": [],
   "source": []
  }
 ],
 "metadata": {
  "kernelspec": {
   "display_name": "Python 3",
   "language": "python",
   "name": "python3"
  },
  "language_info": {
   "codemirror_mode": {
    "name": "ipython",
    "version": 3
   },
   "file_extension": ".py",
   "mimetype": "text/x-python",
   "name": "python",
   "nbconvert_exporter": "python",
   "pygments_lexer": "ipython3",
   "version": "3.7.4"
  }
 },
 "nbformat": 4,
 "nbformat_minor": 2
}
